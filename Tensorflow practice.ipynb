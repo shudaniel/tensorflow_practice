{
 "cells": [
  {
   "cell_type": "markdown",
   "metadata": {},
   "source": [
    "# Tensorflow Practice\n",
    "\n",
    "This notebook contains our practice work in training a neural network to do binary classification.\n"
   ]
  },
  {
   "cell_type": "code",
   "execution_count": 108,
   "metadata": {},
   "outputs": [],
   "source": [
    "import tensorflow as tf\n",
    "import matplotlib.pyplot as plt\n",
    "import os\n",
    "import numpy as np\n",
    "import random\n",
    "import pandas\n",
    "from sklearn.metrics.pairwise import pairwise_distances\n",
    "import numpy as np\n",
    "import matplotlib.pyplot as plt"
   ]
  },
  {
   "cell_type": "markdown",
   "metadata": {},
   "source": [
    "Run this python file to generate all the datasets used:"
   ]
  },
  {
   "cell_type": "code",
   "execution_count": 122,
   "metadata": {},
   "outputs": [],
   "source": [
    "%run -i 'build_simple_example.py'"
   ]
  },
  {
   "cell_type": "code",
   "execution_count": 123,
   "metadata": {},
   "outputs": [],
   "source": [
    "# These tests are all binary classifiers, so the number of labels = 2\n",
    "num_labels = 2"
   ]
  },
  {
   "cell_type": "code",
   "execution_count": 111,
   "metadata": {},
   "outputs": [],
   "source": [
    "# Use the method to draw the image\n",
    "def draw_image(x_data):\n",
    "    x_0 = []\n",
    "    x_1 = []\n",
    "    y_0 = []\n",
    "    y_1 = []\n",
    "\n",
    "    for row in x_data:\n",
    "        x = row[2]\n",
    "        y = row[3]\n",
    "        color = row[4]\n",
    "        if color == 0:\n",
    "            x_0.append(x)\n",
    "            y_0.append(y)\n",
    "        else:\n",
    "            x_1.append(x)\n",
    "            y_1.append(y)\n",
    "\n",
    "    plt.scatter(x_0, y_0, c = \"red\")\n",
    "    plt.scatter(x_1, y_1, c = \"blue\")\n",
    "\n",
    "    plt.axis('equal')\n",
    "    plt.show()"
   ]
  },
  {
   "cell_type": "code",
   "execution_count": 112,
   "metadata": {},
   "outputs": [],
   "source": [
    "def generate_dataset(filename):\n",
    "    col_names = ['ts','user','x_coordinate','y_coordinate','color', 'label']\n",
    "    data = pandas.read_csv(filename, names = col_names, header=None, skiprows=1)\n",
    "\n",
    "    return data"
   ]
  },
  {
   "cell_type": "code",
   "execution_count": 113,
   "metadata": {},
   "outputs": [],
   "source": [
    "def extract_data(filename, num_labels):\n",
    "    data = generate_dataset(filename)\n",
    "    dim = data.ts.values.shape[0]\n",
    "    dataset_x = np.concatenate((data.ts.values.reshape(dim,1),\n",
    "                              data.user.values.reshape(dim,1),\n",
    "                              data.x_coordinate.values.reshape(dim,1),\n",
    "                              data.y_coordinate.values.reshape(dim,1),\n",
    "                              data.color.values.reshape(dim,1)), axis=1)\n",
    "    dataset_y = np.zeros((dim,num_labels))\n",
    "    for i in range(dim):\n",
    "        dataset_y[i][data.label.values[i]] = 1\n",
    "    return dataset_x, dataset_y, dataset_x.shape[0]"
   ]
  },
  {
   "cell_type": "code",
   "execution_count": 124,
   "metadata": {},
   "outputs": [],
   "source": [
    "def create_training_and_testing_sets(x_data, y_data, shape, num_test_points):\n",
    "    test_indexes = random.sample(range(0, shape), num_test_points )\n",
    "\n",
    "\n",
    "    train_indexes = np.setdiff1d(list(range(0,shape)),test_indexes)\n",
    "    train_x = x_data[train_indexes]\n",
    "    train_y = y_data[train_indexes]\n",
    "\n",
    "    test_x = x_data[test_indexes]\n",
    "    test_y = y_data[test_indexes]\n",
    "\n",
    "    return train_x, train_y, test_x, test_y"
   ]
  },
  {
   "cell_type": "code",
   "execution_count": 136,
   "metadata": {},
   "outputs": [],
   "source": [
    "def build_model():\n",
    "    x = tf.placeholder(tf.float32, shape=(None, 5), name='x')    \n",
    "    y = tf.placeholder(tf.float32, shape=(None, num_labels), name='y') \n",
    "    \n",
    "    W1 = tf.Variable(tf.random_normal([5, 128], stddev = 0.01), name='W1')\n",
    "    b1 = tf.Variable(tf.random_normal([128], stddev = 0.01), name='b1')\n",
    "    \n",
    "    W2 = tf.Variable(tf.random_normal([128, num_labels], stddev=0.01), name='W2')\n",
    "    b2 = tf.Variable(tf.random_normal([num_labels], stddev = 0.01), name='b2')\n",
    "\n",
    "    \n",
    "    hidden_out = tf.add(tf.matmul(x, W1), b1)\n",
    "    hidden_out = tf.nn.relu(hidden_out)\n",
    "    \n",
    "    logits = tf.add(tf.matmul(hidden_out, W2), b2)\n",
    "    prediction = tf.nn.softmax(logits)\n",
    "    y_clipped = tf.clip_by_value(prediction, 1e-10, 0.9999999)\n",
    "    \n",
    "    loss = -tf.reduce_mean(tf.reduce_sum(y * tf.log(y_clipped) + (1 - y) * tf.log(1 - y_clipped), axis=1))\n",
    "    \n",
    "    train_op = tf.train.GradientDescentOptimizer(learning_rate = 0.01).minimize(loss)\n",
    "    init = tf.global_variables_initializer()\n",
    "\n",
    "    correct_prediction = tf.equal(tf.argmax(prediction, 1, name=\"Argmax_Pred\"), tf.argmax(y, 1, name=\"Y_Pred\"), name=\"Correct_Pred\")\n",
    "    accuracy = tf.reduce_mean(tf.cast(correct_prediction, tf.float32, name=\"Cast_Corr_Pred\"), name=\"Accuracy\")\n",
    "    \n",
    "    return x, y, init, train_op, loss, accuracy"
   ]
  },
  {
   "cell_type": "code",
   "execution_count": 137,
   "metadata": {},
   "outputs": [],
   "source": [
    "def run(x, y, init, train_op, loss, accuracy, train_x, train_y, test_x, test_y):\n",
    "\n",
    "    with tf.Session() as sess:\n",
    "        sess.run(init)\n",
    "        feed_dict = {x: train_x, y: train_y}\n",
    "        test_dict = {x: test_x, y: test_y}\n",
    "        \n",
    "        error_increases = 0\n",
    "        old_loss = 0\n",
    "        for i in range(2000):\n",
    "            #print('EPOCH', i)\n",
    "            _, loss_val = sess.run([train_op, loss], feed_dict)\n",
    "            \n",
    "            if i % 1000 == 0:\n",
    "                print(\"loss:\", loss_val)\n",
    "\n",
    "        print(\"Training Accuracy:\", sess.run( accuracy, feed_dict))\n",
    "        print(\"Testing Accuracy:\", sess.run( accuracy, test_dict))"
   ]
  },
  {
   "cell_type": "markdown",
   "metadata": {},
   "source": [
    "The first dataset tested is two solid colored blocks placed to the left and the right of each other. The image is 100x100 pixels."
   ]
  },
  {
   "cell_type": "code",
   "execution_count": 132,
   "metadata": {},
   "outputs": [
    {
     "data": {
      "image/png": "[encoded data removed]",
      "text/plain": [
       "<Figure size 432x288 with 1 Axes>"
      ]
     },
     "metadata": {
      "needs_background": "light"
     },
     "output_type": "display_data"
    }
   ],
   "source": [
    "data_x, data_y, shape = extract_data('two_blocks_lr.txt', num_labels)\n",
    "\n",
    "# Randomly take 9000 pixels to test on. The training set is only 1000\n",
    "train_x, train_y, test_x, test_y = create_training_and_testing_sets(x_data, y_data, shape, 9000)\n",
    "draw_image(data_x)"
   ]
  },
  {
   "cell_type": "markdown",
   "metadata": {},
   "source": [
    "First, we trained and ran the data on the entire dataset, then tested on the entire dataset. We ran 2000 Epochs and printed the loss every 1000 epochs.\n",
    "We did this 20 times."
   ]
  },
  {
   "cell_type": "code",
   "execution_count": 133,
   "metadata": {
    "scrolled": false
   },
   "outputs": [
    {
     "name": "stdout",
     "output_type": "stream",
     "text": [
      "Iteration:  0\n",
      "loss: 1.3907295\n",
      "loss: 0.41007587\n",
      "Training Accuracy: 0.9114\n",
      "Testing Accuracy: 0.9114\n",
      "Iteration:  1\n",
      "loss: 1.40876\n",
      "loss: 0.40461528\n",
      "Training Accuracy: 0.9839\n",
      "Testing Accuracy: 0.9839\n",
      "Iteration:  2\n",
      "loss: 1.3998044\n",
      "loss: 0.41138417\n",
      "Training Accuracy: 0.9113\n",
      "Testing Accuracy: 0.9113\n",
      "Iteration:  3\n",
      "loss: 1.4119204\n",
      "loss: 0.40955034\n",
      "Training Accuracy: 0.9081\n",
      "Testing Accuracy: 0.9081\n",
      "Iteration:  4\n",
      "loss: 1.3511932\n",
      "loss: 0.411587\n",
      "Training Accuracy: 0.9091\n",
      "Testing Accuracy: 0.9091\n",
      "Iteration:  5\n",
      "loss: 1.3126315\n",
      "loss: 0.40387452\n",
      "Training Accuracy: 0.9839\n",
      "Testing Accuracy: 0.9839\n",
      "Iteration:  6\n",
      "loss: 1.4133055\n",
      "loss: 0.40308765\n",
      "Training Accuracy: 0.9842\n",
      "Testing Accuracy: 0.9842\n",
      "Iteration:  7\n",
      "loss: 1.3960882\n",
      "loss: 0.40908298\n",
      "Training Accuracy: 0.912\n",
      "Testing Accuracy: 0.912\n",
      "Iteration:  8\n",
      "loss: 1.4060487\n",
      "loss: 0.4113\n",
      "Training Accuracy: 0.9115\n",
      "Testing Accuracy: 0.9115\n",
      "Iteration:  9\n",
      "loss: 1.3925803\n",
      "loss: 0.41226068\n",
      "Training Accuracy: 0.912\n",
      "Testing Accuracy: 0.912\n",
      "Iteration:  10\n",
      "loss: 1.3932458\n",
      "loss: 0.41009218\n",
      "Training Accuracy: 0.9108\n",
      "Testing Accuracy: 0.9108\n",
      "Iteration:  11\n",
      "loss: 1.373752\n",
      "loss: 0.4036637\n",
      "Training Accuracy: 0.9842\n",
      "Testing Accuracy: 0.9842\n",
      "Iteration:  12\n",
      "loss: 1.4241451\n",
      "loss: 0.40479487\n",
      "Training Accuracy: 0.9838\n",
      "Testing Accuracy: 0.9838\n",
      "Iteration:  13\n",
      "loss: 1.3624558\n",
      "loss: 0.4100592\n",
      "Training Accuracy: 0.9066\n",
      "Testing Accuracy: 0.9066\n",
      "Iteration:  14\n",
      "loss: 1.381683\n",
      "loss: 0.4098023\n",
      "Training Accuracy: 0.9068\n",
      "Testing Accuracy: 0.9068\n",
      "Iteration:  15\n",
      "loss: 1.3865958\n",
      "loss: 0.4058942\n",
      "Training Accuracy: 0.9839\n",
      "Testing Accuracy: 0.9839\n",
      "Iteration:  16\n",
      "loss: 1.4078209\n",
      "loss: 0.41127345\n",
      "Training Accuracy: 0.9119\n",
      "Testing Accuracy: 0.9119\n",
      "Iteration:  17\n",
      "loss: 1.4243197\n",
      "loss: 0.41129872\n",
      "Training Accuracy: 0.9091\n",
      "Testing Accuracy: 0.9091\n",
      "Iteration:  18\n",
      "loss: 1.383437\n",
      "loss: 0.40297186\n",
      "Training Accuracy: 0.9846\n",
      "Testing Accuracy: 0.9846\n",
      "Iteration:  19\n",
      "loss: 1.4583346\n",
      "loss: 0.41151148\n",
      "Training Accuracy: 0.9114\n",
      "Testing Accuracy: 0.9114\n"
     ]
    }
   ],
   "source": [
    "for i in range(20):\n",
    "    print(\"Iteration: \", i )\n",
    "    x, y, init, train_op, loss, accuracy = build_model()\n",
    "    run(x, y, init, train_op, loss, accuracy, data_x, data_y, data_x, data_y)"
   ]
  },
  {
   "cell_type": "markdown",
   "metadata": {},
   "source": [
    "Aftwards, we extracted 9000 datapoints for testing and trained on 1000"
   ]
  },
  {
   "cell_type": "code",
   "execution_count": 134,
   "metadata": {},
   "outputs": [
    {
     "data": {
      "image/png": "[encoded data removed]",
      "text/plain": [
       "<Figure size 432x288 with 1 Axes>"
      ]
     },
     "metadata": {
      "needs_background": "light"
     },
     "output_type": "display_data"
    }
   ],
   "source": [
    "draw_image(train_x)"
   ]
  },
  {
   "cell_type": "code",
   "execution_count": 135,
   "metadata": {},
   "outputs": [
    {
     "name": "stdout",
     "output_type": "stream",
     "text": [
      "Iteration:  0\n",
      "loss: 1.3789592\n",
      "loss: 0.39608204\n",
      "Training Accuracy: 0.914\n",
      "Testing Accuracy: 0.9067778\n",
      "Iteration:  1\n",
      "loss: 1.36475\n",
      "loss: 0.40013018\n",
      "Training Accuracy: 0.915\n",
      "Testing Accuracy: 0.90644443\n",
      "Iteration:  2\n",
      "loss: 1.3667964\n",
      "loss: 0.39618602\n",
      "Training Accuracy: 0.915\n",
      "Testing Accuracy: 0.9068889\n",
      "Iteration:  3\n",
      "loss: 1.4210991\n",
      "loss: 0.39241028\n",
      "Training Accuracy: 0.979\n",
      "Testing Accuracy: 0.9763333\n",
      "Iteration:  4\n",
      "loss: 1.3777813\n",
      "loss: 0.39062914\n",
      "Training Accuracy: 0.978\n",
      "Testing Accuracy: 0.9738889\n",
      "Iteration:  5\n",
      "loss: 1.3740519\n",
      "loss: 0.39760026\n",
      "Training Accuracy: 0.915\n",
      "Testing Accuracy: 0.9061111\n",
      "Iteration:  6\n",
      "loss: 1.3948182\n",
      "loss: 0.39865205\n",
      "Training Accuracy: 0.915\n",
      "Testing Accuracy: 0.9071111\n",
      "Iteration:  7\n",
      "loss: 1.4059289\n",
      "loss: 0.39167506\n",
      "Training Accuracy: 0.98\n",
      "Testing Accuracy: 0.9765555\n",
      "Iteration:  8\n",
      "loss: 1.3871633\n",
      "loss: 0.39100018\n",
      "Training Accuracy: 0.978\n",
      "Testing Accuracy: 0.976\n",
      "Iteration:  9\n",
      "loss: 1.350947\n",
      "loss: 0.3897513\n",
      "Training Accuracy: 0.98\n",
      "Testing Accuracy: 0.9764444\n",
      "Iteration:  10\n",
      "loss: 1.4399172\n",
      "loss: 0.39099488\n",
      "Training Accuracy: 0.981\n",
      "Testing Accuracy: 0.9781111\n",
      "Iteration:  11\n",
      "loss: 1.3547641\n",
      "loss: 0.39851335\n",
      "Training Accuracy: 0.908\n",
      "Testing Accuracy: 0.9033333\n",
      "Iteration:  12\n",
      "loss: 1.4215407\n",
      "loss: 0.39713085\n",
      "Training Accuracy: 0.912\n",
      "Testing Accuracy: 0.90522224\n",
      "Iteration:  13\n",
      "loss: 1.3883789\n",
      "loss: 0.39174932\n",
      "Training Accuracy: 0.978\n",
      "Testing Accuracy: 0.9768889\n",
      "Iteration:  14\n",
      "loss: 1.3886422\n",
      "loss: 0.39228243\n",
      "Training Accuracy: 0.983\n",
      "Testing Accuracy: 0.97888887\n",
      "Iteration:  15\n",
      "loss: 1.3956488\n",
      "loss: 0.39579758\n",
      "Training Accuracy: 0.908\n",
      "Testing Accuracy: 0.903\n",
      "Iteration:  16\n",
      "loss: 1.4348449\n",
      "loss: 0.39068556\n",
      "Training Accuracy: 0.978\n",
      "Testing Accuracy: 0.97555554\n",
      "Iteration:  17\n",
      "loss: 1.4102647\n",
      "loss: 0.3913904\n",
      "Training Accuracy: 0.98\n",
      "Testing Accuracy: 0.9772222\n",
      "Iteration:  18\n",
      "loss: 1.3926548\n",
      "loss: 0.3894416\n",
      "Training Accuracy: 0.98\n",
      "Testing Accuracy: 0.9765555\n",
      "Iteration:  19\n",
      "loss: 1.4273629\n",
      "loss: 0.39073262\n",
      "Training Accuracy: 0.981\n",
      "Testing Accuracy: 0.9777778\n"
     ]
    }
   ],
   "source": [
    "for i in range(20):\n",
    "    print(\"Iteration: \", i )\n",
    "    x, y, init, train_op, loss, accuracy = build_model()\n",
    "    run(x, y, init, train_op, loss, accuracy, train_x, train_y, test_x, test_y)"
   ]
  },
  {
   "cell_type": "markdown",
   "metadata": {},
   "source": [
    "Next we also tested with the two colors on top of each other and on two opposite sides of a diagonal."
   ]
  },
  {
   "cell_type": "code",
   "execution_count": null,
   "metadata": {},
   "outputs": [],
   "source": [
    "data_x, data_y, shape = extract_data('two_blocks_lr.txt', num_labels)\n",
    "\n",
    "# Randomly take 9000 pixels to test on. The training set is only 1000\n",
    "train_x, train_y, test_x, test_y = create_training_and_testing_sets(x_data, y_data, shape, 9000)\n",
    "draw_image(data_x)"
   ]
  },
  {
   "cell_type": "code",
   "execution_count": null,
   "metadata": {},
   "outputs": [],
   "source": []
  },
  {
   "cell_type": "code",
   "execution_count": null,
   "metadata": {},
   "outputs": [],
   "source": [
    "When doing the real data, user id is kinda useless. You want to have a vector instead that is the embedding of the user, such as interactions of the user and information about the user. Maybe the top projects they participated in or their relation to other users.\n",
    "TAke a small sample square of the data with a few pictures in it.\n",
    "Read the paper and make it better\n",
    "Clean and organize the notebook\n",
    "\n",
    "If i given all the updates, how do i cluster them so that they form the images\n",
    "EX: from 10000 updates, 100 images were built. Then i will train my model and be able to tell if it can perfectly find the images"
   ]
  }
 ],
 "metadata": {
  "kernelspec": {
   "display_name": "Python 3",
   "language": "python",
   "name": "python3"
  },
  "language_info": {
   "codemirror_mode": {
    "name": "ipython",
    "version": 3
   },
   "file_extension": ".py",
   "mimetype": "text/x-python",
   "name": "python",
   "nbconvert_exporter": "python",
   "pygments_lexer": "ipython3",
   "version": "3.6.3"
  }
 },
 "nbformat": 4,
 "nbformat_minor": 2
}
