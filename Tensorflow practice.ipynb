{
 "cells": [
  {
   "cell_type": "markdown",
   "metadata": {},
   "source": [
    "# Tensorflow Practice\n",
    "\n",
    "This notebook contains our practice work in training a neural network to do binary classification.\n"
   ]
  },
  {
   "cell_type": "code",
   "execution_count": 1,
   "metadata": {},
   "outputs": [],
   "source": [
    "import tensorflow as tf\n",
    "import matplotlib.pyplot as plt\n",
    "import os\n",
    "import numpy as np\n",
    "import random\n",
    "import pandas\n",
    "from sklearn.metrics.pairwise import pairwise_distances\n",
    "import numpy as np\n",
    "import matplotlib.pyplot as plt"
   ]
  },
  {
   "cell_type": "markdown",
   "metadata": {},
   "source": [
    "Run this python file to generate all the datasets used:"
   ]
  },
  {
   "cell_type": "code",
   "execution_count": 2,
   "metadata": {},
   "outputs": [],
   "source": [
    "%run -i 'build_simple_example.py'"
   ]
  },
  {
   "cell_type": "code",
   "execution_count": 3,
   "metadata": {},
   "outputs": [],
   "source": [
    "# These tests are all binary classifiers, so the number of labels = 2\n",
    "num_labels = 2"
   ]
  },
  {
   "cell_type": "code",
   "execution_count": 4,
   "metadata": {},
   "outputs": [],
   "source": [
    "# Use the method to draw the image\n",
    "def draw_image(x_data):\n",
    "    x_0 = []\n",
    "    x_1 = []\n",
    "    y_0 = []\n",
    "    y_1 = []\n",
    "\n",
    "    for row in x_data:\n",
    "        x = row[2]\n",
    "        y = row[3]\n",
    "        color = row[4]\n",
    "        if color == 0:\n",
    "            x_0.append(x)\n",
    "            y_0.append(y)\n",
    "        else:\n",
    "            x_1.append(x)\n",
    "            y_1.append(y)\n",
    "\n",
    "    plt.scatter(x_0, y_0, c = \"red\")\n",
    "    plt.scatter(x_1, y_1, c = \"blue\")\n",
    "\n",
    "    plt.axis('equal')\n",
    "    plt.show()"
   ]
  },
  {
   "cell_type": "code",
   "execution_count": 5,
   "metadata": {},
   "outputs": [],
   "source": [
    "def generate_dataset(filename):\n",
    "    col_names = ['ts','user','x_coordinate','y_coordinate','color', 'label']\n",
    "    data = pandas.read_csv(filename, names = col_names, header=None, skiprows=1)\n",
    "\n",
    "    return data"
   ]
  },
  {
   "cell_type": "code",
   "execution_count": 6,
   "metadata": {},
   "outputs": [],
   "source": [
    "def extract_data(filename, num_labels):\n",
    "    data = generate_dataset(filename)\n",
    "    dim = data.ts.values.shape[0]\n",
    "    dataset_x = np.concatenate((data.ts.values.reshape(dim,1),\n",
    "                              data.user.values.reshape(dim,1),\n",
    "                              data.x_coordinate.values.reshape(dim,1),\n",
    "                              data.y_coordinate.values.reshape(dim,1),\n",
    "                              data.color.values.reshape(dim,1)), axis=1)\n",
    "    dataset_y = np.zeros((dim,num_labels))\n",
    "    for i in range(dim):\n",
    "        dataset_y[i][data.label.values[i]] = 1\n",
    "    return dataset_x, dataset_y, dataset_x.shape[0]"
   ]
  },
  {
   "cell_type": "code",
   "execution_count": 7,
   "metadata": {},
   "outputs": [],
   "source": [
    "def create_training_and_testing_sets(x_data, y_data, shape, num_test_points):\n",
    "    test_indexes = random.sample(range(0, shape), num_test_points )\n",
    "\n",
    "\n",
    "    train_indexes = np.setdiff1d(list(range(0,shape)),test_indexes)\n",
    "    train_x = x_data[train_indexes]\n",
    "    train_y = y_data[train_indexes]\n",
    "\n",
    "    test_x = x_data[test_indexes]\n",
    "    test_y = y_data[test_indexes]\n",
    "\n",
    "    return train_x, train_y, test_x, test_y"
   ]
  },
  {
   "cell_type": "code",
   "execution_count": 8,
   "metadata": {},
   "outputs": [],
   "source": [
    "def build_model():\n",
    "    x = tf.placeholder(tf.float32, shape=(None, 5), name='x')    \n",
    "    y = tf.placeholder(tf.float32, shape=(None, num_labels), name='y') \n",
    "    \n",
    "    W1 = tf.Variable(tf.random_normal([5, 128], stddev = 0.01), name='W1')\n",
    "    b1 = tf.Variable(tf.random_normal([128], stddev = 0.01), name='b1')\n",
    "    \n",
    "    W2 = tf.Variable(tf.random_normal([128, num_labels], stddev=0.01), name='W2')\n",
    "    b2 = tf.Variable(tf.random_normal([num_labels], stddev = 0.01), name='b2')\n",
    "\n",
    "    \n",
    "    hidden_out = tf.add(tf.matmul(x, W1), b1)\n",
    "    hidden_out = tf.nn.relu(hidden_out)\n",
    "    \n",
    "    logits = tf.add(tf.matmul(hidden_out, W2), b2)\n",
    "    prediction = tf.nn.softmax(logits)\n",
    "    y_clipped = tf.clip_by_value(prediction, 1e-10, 0.9999999)\n",
    "    \n",
    "    loss = -tf.reduce_mean(tf.reduce_sum(y * tf.log(y_clipped) + (1 - y) * tf.log(1 - y_clipped), axis=1))\n",
    "    \n",
    "    train_op = tf.train.GradientDescentOptimizer(learning_rate = 0.01).minimize(loss)\n",
    "    init = tf.global_variables_initializer()\n",
    "\n",
    "    correct_prediction = tf.equal(tf.argmax(prediction, 1, name=\"Argmax_Pred\"), tf.argmax(y, 1, name=\"Y_Pred\"), name=\"Correct_Pred\")\n",
    "    accuracy = tf.reduce_mean(tf.cast(correct_prediction, tf.float32, name=\"Cast_Corr_Pred\"), name=\"Accuracy\")\n",
    "    \n",
    "    return x, y, init, train_op, loss, accuracy"
   ]
  },
  {
   "cell_type": "code",
   "execution_count": 9,
   "metadata": {},
   "outputs": [],
   "source": [
    "def run(x, y, init, train_op, loss, accuracy, train_x, train_y, test_x, test_y):\n",
    "\n",
    "    with tf.Session() as sess:\n",
    "        sess.run(init)\n",
    "        feed_dict = {x: train_x, y: train_y}\n",
    "        test_dict = {x: test_x, y: test_y}\n",
    "        \n",
    "        error_increases = 0\n",
    "        old_loss = 0\n",
    "        for i in range(2000):\n",
    "            #print('EPOCH', i)\n",
    "            _, loss_val = sess.run([train_op, loss], feed_dict)\n",
    "            \n",
    "            if i % 1000 == 0:\n",
    "                print(\"loss:\", loss_val)\n",
    "\n",
    "        print(\"Training Accuracy:\", sess.run( accuracy, feed_dict))\n",
    "        print(\"Testing Accuracy:\", sess.run( accuracy, test_dict))"
   ]
  },
  {
   "cell_type": "markdown",
   "metadata": {},
   "source": [
    "The first dataset tested is two solid colored blocks placed to the left and the right of each other. The image is 100x100 pixels."
   ]
  },
  {
   "cell_type": "code",
   "execution_count": 11,
   "metadata": {},
   "outputs": [
    {
     "data": {
      "image/png": "[encoded data removed]",
      "text/plain": [
       "<Figure size 432x288 with 1 Axes>"
      ]
     },
     "metadata": {
      "needs_background": "light"
     },
     "output_type": "display_data"
    }
   ],
   "source": [
    "data_x, data_y, shape = extract_data('two_blocks_lr.txt', num_labels)\n",
    "\n",
    "# Randomly take 9000 pixels to test on. The training set is only 1000\n",
    "train_x, train_y, test_x, test_y = create_training_and_testing_sets(data_x, data_y, shape, 9000)\n",
    "draw_image(data_x)"
   ]
  },
  {
   "cell_type": "markdown",
   "metadata": {},
   "source": [
    "First, we trained and ran the data on the entire dataset, then tested on the entire dataset. We ran 2000 Epochs and printed the loss every 1000 epochs.\n",
    "We did this 20 times."
   ]
  },
  {
   "cell_type": "code",
   "execution_count": 12,
   "metadata": {
    "scrolled": false
   },
   "outputs": [
    {
     "name": "stdout",
     "output_type": "stream",
     "text": [
      "Iteration:  0\n",
      "WARNING:tensorflow:From /Library/Frameworks/Python.framework/Versions/3.7/lib/python3.7/site-packages/tensorflow/python/framework/op_def_library.py:263: colocate_with (from tensorflow.python.framework.ops) is deprecated and will be removed in a future version.\n",
      "Instructions for updating:\n",
      "Colocations handled automatically by placer.\n",
      "WARNING:tensorflow:From /Library/Frameworks/Python.framework/Versions/3.7/lib/python3.7/site-packages/tensorflow/python/ops/math_ops.py:3066: to_int32 (from tensorflow.python.ops.math_ops) is deprecated and will be removed in a future version.\n",
      "Instructions for updating:\n",
      "Use tf.cast instead.\n",
      "loss: 1.4072139\n",
      "loss: 0.4047568\n",
      "Training Accuracy: 0.9837\n",
      "Testing Accuracy: 0.9837\n",
      "Iteration:  1\n",
      "loss: 1.3766823\n",
      "loss: 0.41220653\n",
      "Training Accuracy: 0.9071\n",
      "Testing Accuracy: 0.9071\n",
      "Iteration:  2\n",
      "loss: 1.3936312\n",
      "loss: 0.40244874\n",
      "Training Accuracy: 0.9838\n",
      "Testing Accuracy: 0.9838\n",
      "Iteration:  3\n",
      "loss: 1.3639764\n",
      "loss: 0.40230453\n",
      "Training Accuracy: 0.9837\n",
      "Testing Accuracy: 0.9837\n",
      "Iteration:  4\n",
      "loss: 1.4046746\n",
      "loss: 0.40421465\n",
      "Training Accuracy: 0.9837\n",
      "Testing Accuracy: 0.9837\n",
      "Iteration:  5\n",
      "loss: 1.3778\n",
      "loss: 0.40325868\n",
      "Training Accuracy: 0.9842\n",
      "Testing Accuracy: 0.9842\n",
      "Iteration:  6\n",
      "loss: 1.4140978\n",
      "loss: 0.41542226\n",
      "Training Accuracy: 0.91\n",
      "Testing Accuracy: 0.91\n",
      "Iteration:  7\n",
      "loss: 1.3722547\n",
      "loss: 0.40968153\n",
      "Training Accuracy: 0.9105\n",
      "Testing Accuracy: 0.9105\n",
      "Iteration:  8\n",
      "loss: 1.38086\n",
      "loss: 0.40977025\n",
      "Training Accuracy: 0.9102\n",
      "Testing Accuracy: 0.9102\n",
      "Iteration:  9\n",
      "loss: 1.3775369\n",
      "loss: 0.41000158\n",
      "Training Accuracy: 0.9118\n",
      "Testing Accuracy: 0.9118\n",
      "Iteration:  10\n",
      "loss: 1.3920627\n",
      "loss: 0.40996656\n",
      "Training Accuracy: 0.9113\n",
      "Testing Accuracy: 0.9113\n",
      "Iteration:  11\n",
      "loss: 1.4037609\n",
      "loss: 0.40275565\n",
      "Training Accuracy: 0.9829\n",
      "Testing Accuracy: 0.9829\n",
      "Iteration:  12\n",
      "loss: 1.3640779\n",
      "loss: 0.41077164\n",
      "Training Accuracy: 0.9089\n",
      "Testing Accuracy: 0.9089\n",
      "Iteration:  13\n",
      "loss: 1.3631456\n",
      "loss: 0.4031866\n",
      "Training Accuracy: 0.9842\n",
      "Testing Accuracy: 0.9842\n",
      "Iteration:  14\n",
      "loss: 1.3896854\n",
      "loss: 0.4036037\n",
      "Training Accuracy: 0.9841\n",
      "Testing Accuracy: 0.9841\n",
      "Iteration:  15\n",
      "loss: 1.3867352\n",
      "loss: 0.41075614\n",
      "Training Accuracy: 0.9095\n",
      "Testing Accuracy: 0.9095\n",
      "Iteration:  16\n",
      "loss: 1.3153827\n",
      "loss: 0.41137525\n",
      "Training Accuracy: 0.9112\n",
      "Testing Accuracy: 0.9112\n",
      "Iteration:  17\n",
      "loss: 1.396811\n",
      "loss: 0.41013324\n",
      "Training Accuracy: 0.9117\n",
      "Testing Accuracy: 0.9117\n",
      "Iteration:  18\n",
      "loss: 1.3816385\n",
      "loss: 0.41071567\n",
      "Training Accuracy: 0.911\n",
      "Testing Accuracy: 0.911\n",
      "Iteration:  19\n",
      "loss: 1.4124514\n",
      "loss: 0.4047033\n",
      "Training Accuracy: 0.9833\n",
      "Testing Accuracy: 0.9833\n"
     ]
    }
   ],
   "source": [
    "for i in range(20):\n",
    "    print(\"Iteration: \", i )\n",
    "    x, y, init, train_op, loss, accuracy = build_model()\n",
    "    run(x, y, init, train_op, loss, accuracy, data_x, data_y, data_x, data_y)"
   ]
  },
  {
   "cell_type": "markdown",
   "metadata": {},
   "source": [
    "Aftwards, we extracted 9000 datapoints for testing and trained on 1000"
   ]
  },
  {
   "cell_type": "code",
   "execution_count": 13,
   "metadata": {},
   "outputs": [
    {
     "data": {
      "image/png": "[encoded data removed]",
      "text/plain": [
       "<Figure size 432x288 with 1 Axes>"
      ]
     },
     "metadata": {
      "needs_background": "light"
     },
     "output_type": "display_data"
    }
   ],
   "source": [
    "draw_image(train_x)"
   ]
  },
  {
   "cell_type": "code",
   "execution_count": 14,
   "metadata": {},
   "outputs": [
    {
     "name": "stdout",
     "output_type": "stream",
     "text": [
      "Iteration:  0\n",
      "loss: 1.4159116\n",
      "loss: 0.39862922\n",
      "Training Accuracy: 0.911\n",
      "Testing Accuracy: 0.917\n",
      "Iteration:  1\n",
      "loss: 1.3779237\n",
      "loss: 0.3940402\n",
      "Training Accuracy: 0.982\n",
      "Testing Accuracy: 0.9778889\n",
      "Iteration:  2\n",
      "loss: 1.378389\n",
      "loss: 0.39460242\n",
      "Training Accuracy: 0.982\n",
      "Testing Accuracy: 0.97744447\n",
      "Iteration:  3\n",
      "loss: 1.3789707\n",
      "loss: 0.3935081\n",
      "Training Accuracy: 0.982\n",
      "Testing Accuracy: 0.9776667\n",
      "Iteration:  4\n",
      "loss: 1.4004109\n",
      "loss: 0.40027794\n",
      "Training Accuracy: 0.909\n",
      "Testing Accuracy: 0.9161111\n",
      "Iteration:  5\n",
      "loss: 1.365199\n",
      "loss: 0.39400104\n",
      "Training Accuracy: 0.982\n",
      "Testing Accuracy: 0.9761111\n",
      "Iteration:  6\n",
      "loss: 1.360635\n",
      "loss: 0.392596\n",
      "Training Accuracy: 0.982\n",
      "Testing Accuracy: 0.978\n",
      "Iteration:  7\n",
      "loss: 1.3777261\n",
      "loss: 0.39381084\n",
      "Training Accuracy: 0.982\n",
      "Testing Accuracy: 0.9773333\n",
      "Iteration:  8\n",
      "loss: 1.4058796\n",
      "loss: 0.3987022\n",
      "Training Accuracy: 0.908\n",
      "Testing Accuracy: 0.9152222\n",
      "Iteration:  9\n",
      "loss: 1.37722\n",
      "loss: 0.39268312\n",
      "Training Accuracy: 0.986\n",
      "Testing Accuracy: 0.98044443\n",
      "Iteration:  10\n",
      "loss: 1.3780564\n",
      "loss: 0.3922323\n",
      "Training Accuracy: 0.982\n",
      "Testing Accuracy: 0.9764444\n",
      "Iteration:  11\n",
      "loss: 1.3927447\n",
      "loss: 0.3986729\n",
      "Training Accuracy: 0.911\n",
      "Testing Accuracy: 0.9167778\n",
      "Iteration:  12\n",
      "loss: 1.3049715\n",
      "loss: 0.39883292\n",
      "Training Accuracy: 0.912\n",
      "Testing Accuracy: 0.9178889\n",
      "Iteration:  13\n",
      "loss: 1.3743747\n",
      "loss: 0.40066308\n",
      "Training Accuracy: 0.909\n",
      "Testing Accuracy: 0.91433334\n",
      "Iteration:  14\n",
      "loss: 1.391083\n",
      "loss: 0.4005523\n",
      "Training Accuracy: 0.912\n",
      "Testing Accuracy: 0.9172222\n",
      "Iteration:  15\n",
      "loss: 1.3221419\n",
      "loss: 0.3986828\n",
      "Training Accuracy: 0.912\n",
      "Testing Accuracy: 0.9175556\n",
      "Iteration:  16\n",
      "loss: 1.4776568\n",
      "loss: 0.39960727\n",
      "Training Accuracy: 0.909\n",
      "Testing Accuracy: 0.91555554\n",
      "Iteration:  17\n",
      "loss: 1.3814293\n",
      "loss: 0.39556283\n",
      "Training Accuracy: 0.982\n",
      "Testing Accuracy: 0.9772222\n",
      "Iteration:  18\n",
      "loss: 1.3785655\n",
      "loss: 0.39958605\n",
      "Training Accuracy: 0.909\n",
      "Testing Accuracy: 0.91477776\n",
      "Iteration:  19\n",
      "loss: 1.3628039\n",
      "loss: 0.3936159\n",
      "Training Accuracy: 0.982\n",
      "Testing Accuracy: 0.9762222\n"
     ]
    }
   ],
   "source": [
    "for i in range(20):\n",
    "    print(\"Iteration: \", i )\n",
    "    x, y, init, train_op, loss, accuracy = build_model()\n",
    "    run(x, y, init, train_op, loss, accuracy, train_x, train_y, test_x, test_y)"
   ]
  },
  {
   "cell_type": "markdown",
   "metadata": {},
   "source": [
    "Next we also tested with the two colors on top of each other and on two opposite sides of a diagonal."
   ]
  },
  {
   "cell_type": "code",
   "execution_count": 15,
   "metadata": {},
   "outputs": [
    {
     "data": {
      "image/png": "[encoded data removed]",
      "text/plain": [
       "<Figure size 432x288 with 1 Axes>"
      ]
     },
     "metadata": {
      "needs_background": "light"
     },
     "output_type": "display_data"
    }
   ],
   "source": [
    "data_x, data_y, shape = extract_data('two_blocks_tb.txt', num_labels)\n",
    "\n",
    "# Randomly take 9000 pixels to test on. The training set is only 1000\n",
    "train_x, train_y, test_x, test_y = create_training_and_testing_sets(data_x, data_y, shape, 9000)\n",
    "draw_image(data_x)"
   ]
  },
  {
   "cell_type": "code",
   "execution_count": 16,
   "metadata": {},
   "outputs": [
    {
     "name": "stdout",
     "output_type": "stream",
     "text": [
      "Iteration:  0\n",
      "loss: 1.3759518\n",
      "loss: 0.40943286\n",
      "Training Accuracy: 0.9109\n",
      "Testing Accuracy: 0.9109\n",
      "Iteration:  1\n",
      "loss: 1.4012954\n",
      "loss: 0.4052122\n",
      "Training Accuracy: 0.9841\n",
      "Testing Accuracy: 0.9841\n",
      "Iteration:  2\n",
      "loss: 1.3643445\n",
      "loss: 0.41513208\n",
      "Training Accuracy: 0.9095\n",
      "Testing Accuracy: 0.9095\n",
      "Iteration:  3\n",
      "loss: 1.3822191\n",
      "loss: 0.4056404\n",
      "Training Accuracy: 0.984\n",
      "Testing Accuracy: 0.984\n",
      "Iteration:  4\n",
      "loss: 1.3952708\n",
      "loss: 0.4036928\n",
      "Training Accuracy: 0.9851\n",
      "Testing Accuracy: 0.9851\n",
      "Iteration:  5\n",
      "loss: 1.3947557\n",
      "loss: 0.40357408\n",
      "Training Accuracy: 0.9841\n",
      "Testing Accuracy: 0.9841\n",
      "Iteration:  6\n",
      "loss: 1.4056766\n",
      "loss: 0.40380317\n",
      "Training Accuracy: 0.9847\n",
      "Testing Accuracy: 0.9847\n",
      "Iteration:  7\n",
      "loss: 1.3674237\n",
      "loss: 0.41721475\n",
      "Training Accuracy: 0.9114\n",
      "Testing Accuracy: 0.9114\n",
      "Iteration:  8\n",
      "loss: 1.3716996\n",
      "loss: 0.4031547\n",
      "Training Accuracy: 0.985\n",
      "Testing Accuracy: 0.985\n",
      "Iteration:  9\n",
      "loss: 1.3804631\n",
      "loss: 0.40487382\n",
      "Training Accuracy: 0.9836\n",
      "Testing Accuracy: 0.9836\n",
      "Iteration:  10\n",
      "loss: 1.3921205\n",
      "loss: 0.4102582\n",
      "Training Accuracy: 0.9095\n",
      "Testing Accuracy: 0.9095\n",
      "Iteration:  11\n",
      "loss: 1.4162904\n",
      "loss: 0.4151519\n",
      "Training Accuracy: 0.9091\n",
      "Testing Accuracy: 0.9091\n",
      "Iteration:  12\n",
      "loss: 1.4047178\n",
      "loss: 0.4120248\n",
      "Training Accuracy: 0.9112\n",
      "Testing Accuracy: 0.9112\n",
      "Iteration:  13\n",
      "loss: 1.4037529\n",
      "loss: 0.411802\n",
      "Training Accuracy: 0.9118\n",
      "Testing Accuracy: 0.9118\n",
      "Iteration:  14\n",
      "loss: 1.3932543\n",
      "loss: 0.40349498\n",
      "Training Accuracy: 0.9838\n",
      "Testing Accuracy: 0.9838\n",
      "Iteration:  15\n",
      "loss: 1.4085767\n",
      "loss: 0.4060046\n",
      "Training Accuracy: 0.9843\n",
      "Testing Accuracy: 0.9843\n",
      "Iteration:  16\n",
      "loss: 1.385456\n",
      "loss: 0.41270965\n",
      "Training Accuracy: 0.9091\n",
      "Testing Accuracy: 0.9091\n",
      "Iteration:  17\n",
      "loss: 1.3475051\n",
      "loss: 0.40422362\n",
      "Training Accuracy: 0.9844\n",
      "Testing Accuracy: 0.9844\n",
      "Iteration:  18\n",
      "loss: 1.4027348\n",
      "loss: 0.4020527\n",
      "Training Accuracy: 0.9825\n",
      "Testing Accuracy: 0.9825\n",
      "Iteration:  19\n",
      "loss: 1.4092307\n",
      "loss: 0.40244198\n",
      "Training Accuracy: 0.9842\n",
      "Testing Accuracy: 0.9842\n"
     ]
    }
   ],
   "source": [
    "for i in range(20):\n",
    "    print(\"Iteration: \", i )\n",
    "    x, y, init, train_op, loss, accuracy = build_model()\n",
    "    run(x, y, init, train_op, loss, accuracy, data_x, data_y, data_x, data_y)"
   ]
  },
  {
   "cell_type": "code",
   "execution_count": null,
   "metadata": {},
   "outputs": [],
   "source": [
    "When doing the real data, user id is kinda useless. You want to have a vector instead that is the embedding of the user, such as interactions of the user and information about the user. Maybe the top projects they participated in or their relation to other users.\n",
    "TAke a small sample square of the data with a few pictures in it.\n",
    "Read the paper and make it better\n",
    "Clean and organize the notebook\n",
    "\n",
    "If i given all the updates, how do i cluster them so that they form the images\n",
    "EX: from 10000 updates, 100 images were built. Then i will train my model and be able to tell if it can perfectly find the images"
   ]
  }
 ],
 "metadata": {
  "kernelspec": {
   "display_name": "Python 3",
   "language": "python",
   "name": "python3"
  },
  "language_info": {
   "codemirror_mode": {
    "name": "ipython",
    "version": 3
   },
   "file_extension": ".py",
   "mimetype": "text/x-python",
   "name": "python",
   "nbconvert_exporter": "python",
   "pygments_lexer": "ipython3",
   "version": "3.7.1"
  }
 },
 "nbformat": 4,
 "nbformat_minor": 2
}
