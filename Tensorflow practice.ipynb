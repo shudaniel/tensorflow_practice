{
 "cells": [
  {
   "cell_type": "markdown",
   "metadata": {},
   "source": [
    "# Tensorflow Practice\n",
    "\n",
    "This notebook contains our practice work in training a neural network to do binary classification.\n"
   ]
  },
  {
   "cell_type": "code",
   "execution_count": 2,
   "metadata": {},
   "outputs": [],
   "source": [
    "import tensorflow as tf\n",
    "import matplotlib.pyplot as plt\n",
    "import os\n",
    "import numpy as np\n",
    "import random\n",
    "import pandas\n",
    "from sklearn.metrics.pairwise import pairwise_distances\n",
    "import numpy as np\n",
    "import matplotlib.pyplot as plt"
   ]
  },
  {
   "cell_type": "markdown",
   "metadata": {},
   "source": [
    "Run this python file to generate all the datasets used:"
   ]
  },
  {
   "cell_type": "code",
   "execution_count": 3,
   "metadata": {},
   "outputs": [],
   "source": [
    "%run -i 'build_simple_example.py'"
   ]
  },
  {
   "cell_type": "code",
   "execution_count": 4,
   "metadata": {},
   "outputs": [],
   "source": [
    "# These tests are all binary classifiers, so the number of labels = 2\n",
    "num_labels = 2"
   ]
  },
  {
   "cell_type": "code",
   "execution_count": 5,
   "metadata": {},
   "outputs": [],
   "source": [
    "# Use the method to draw the image\n",
    "def draw_image(x_data):\n",
    "    x_0 = []\n",
    "    x_1 = []\n",
    "    y_0 = []\n",
    "    y_1 = []\n",
    "\n",
    "    for row in x_data:\n",
    "        x = row[2]\n",
    "        y = row[3]\n",
    "        color = row[4]\n",
    "        if color == 0:\n",
    "            x_0.append(x)\n",
    "            y_0.append(y)\n",
    "        else:\n",
    "            x_1.append(x)\n",
    "            y_1.append(y)\n",
    "\n",
    "    plt.scatter(x_0, y_0, c = \"red\")\n",
    "    plt.scatter(x_1, y_1, c = \"blue\")\n",
    "\n",
    "    plt.axis('equal')\n",
    "    plt.show()"
   ]
  },
  {
   "cell_type": "code",
   "execution_count": 6,
   "metadata": {},
   "outputs": [],
   "source": [
    "def generate_dataset(filename):\n",
    "    col_names = ['ts','user','x_coordinate','y_coordinate','color', 'label']\n",
    "    data = pandas.read_csv(filename, names = col_names, header=None, skiprows=1)\n",
    "\n",
    "    return data"
   ]
  },
  {
   "cell_type": "code",
   "execution_count": 7,
   "metadata": {},
   "outputs": [],
   "source": [
    "def extract_data(filename, num_labels):\n",
    "    data = generate_dataset(filename)\n",
    "    dim = data.ts.values.shape[0]\n",
    "    dataset_x = np.concatenate((data.ts.values.reshape(dim,1),\n",
    "                              data.user.values.reshape(dim,1),\n",
    "                              data.x_coordinate.values.reshape(dim,1),\n",
    "                              data.y_coordinate.values.reshape(dim,1),\n",
    "                              data.color.values.reshape(dim,1)), axis=1)\n",
    "    dataset_y = np.zeros((dim,num_labels))\n",
    "    for i in range(dim):\n",
    "        dataset_y[i][data.label.values[i]] = 1\n",
    "    return dataset_x, dataset_y, dataset_x.shape[0]"
   ]
  },
  {
   "cell_type": "code",
   "execution_count": 8,
   "metadata": {},
   "outputs": [],
   "source": [
    "def create_training_and_testing_sets(x_data, y_data, shape, num_test_points):\n",
    "    test_indexes = random.sample(range(0, shape), num_test_points )\n",
    "\n",
    "\n",
    "    train_indexes = np.setdiff1d(list(range(0,shape)),test_indexes)\n",
    "    train_x = x_data[train_indexes]\n",
    "    train_y = y_data[train_indexes]\n",
    "\n",
    "    test_x = x_data[test_indexes]\n",
    "    test_y = y_data[test_indexes]\n",
    "\n",
    "    return train_x, train_y, test_x, test_y"
   ]
  },
  {
   "cell_type": "markdown",
   "metadata": {},
   "source": [
    "When we built our model, we tried a lot of different things.\n",
    "For our weights, we randomly assigned them based on a normal distribution with a standard deviation of 0.01. We tried changing this standard deviation and found the best result was with 0.01 but it was not a very significant accuracy improvement. We also tried adding a second hidden layer, but it did not change the accuracy."
   ]
  },
  {
   "cell_type": "code",
   "execution_count": 97,
   "metadata": {},
   "outputs": [],
   "source": [
    "def build_model():\n",
    "    x = tf.placeholder(tf.float32, shape=(None, 5), name='x')    \n",
    "    y = tf.placeholder(tf.float32, shape=(None, num_labels), name='y') \n",
    "    \n",
    "    W1 = tf.Variable(tf.abs(tf.random_normal([5, 4], stddev = 0.01), name='W1'))\n",
    "    b1 = tf.Variable(tf.random_normal([4], stddev = 0.01), name='b1')\n",
    "    \n",
    "    W2 = tf.Variable(tf.random_normal([4, 4], stddev = 0.01), name='W2')\n",
    "    b2 = tf.Variable(tf.random_normal([4], stddev = 0.01), name='b2')\n",
    "    \n",
    "    W_out = tf.Variable(tf.random_normal([4, num_labels], stddev=0.01), name='W_out')\n",
    "    b_out = tf.Variable(tf.random_normal([num_labels], stddev = 0.01), name='b_out')\n",
    "\n",
    "    \n",
    "    hidden_out = tf.add(tf.matmul(x, W1), b1)\n",
    "    #hidden_out = tf.nn.relu(hidden_out)\n",
    "    \n",
    "    hidden_out2 = tf.add(tf.matmul(hidden_out, W2), b2)\n",
    "    #hidden_out2 = tf.nn.relu(hidden_out2)\n",
    "    \n",
    "    logits = tf.add(tf.matmul(hidden_out2, W_out), b_out)\n",
    "    prediction = tf.nn.softmax(logits)\n",
    "    y_clipped = tf.clip_by_value(prediction, 1e-10, 0.9999999)\n",
    "    \n",
    "    loss = -tf.reduce_mean((tf.reduce_sum(y * tf.log(y_clipped) + (1 - y) * tf.log(1 - y_clipped), axis=1)))\n",
    "    \n",
    "    train_op = tf.train.GradientDescentOptimizer(learning_rate = 0.01).minimize(loss)\n",
    "    init = tf.global_variables_initializer()\n",
    "\n",
    "    correct_prediction = tf.equal(tf.argmax(prediction, 1, name=\"Argmax_Pred\"), tf.argmax(y, 1, name=\"Y_Pred\"), name=\"Correct_Pred\")\n",
    "    accuracy = tf.reduce_mean(tf.cast(correct_prediction, tf.float32, name=\"Cast_Corr_Pred\"), name=\"Accuracy\")\n",
    "    \n",
    "    return x, y, init, train_op, loss, accuracy, prediction"
   ]
  },
  {
   "cell_type": "code",
   "execution_count": 39,
   "metadata": {},
   "outputs": [],
   "source": [
    "def run(x, y, init, train_op, loss, accuracy, train_x, train_y, test_x, test_y, prediction):\n",
    "\n",
    "    with tf.Session() as sess:\n",
    "        sess.run(init)\n",
    "        feed_dict = {x: train_x, y: train_y}\n",
    "        test_dict = {x: test_x, y: test_y}\n",
    "        \n",
    "        error_increases = 0\n",
    "        old_loss = 0\n",
    "        for i in range(2000):\n",
    "            #print('EPOCH', i)\n",
    "            _, loss_val = sess.run([train_op, loss], feed_dict)\n",
    "            \n",
    "            if i % 1000 == 0:\n",
    "                print(\"loss:\", loss_val)\n",
    "        \n",
    "        print(\"Training Accuracy:\", sess.run( accuracy, feed_dict))\n",
    "        print(\"Testing Accuracy:\", sess.run( accuracy, test_dict))\n",
    "        #print(prediction)\n",
    "        #print(prediction.eval(feed_dict = {x: test_x}))\n",
    "        '''\n",
    "        for i in range(0, len(tf.trainable_variables())):\n",
    "            print((tf.trainable_variables())[i])\n",
    "            print((tf.trainable_variables())[i].eval())\n",
    "            print()\n",
    "            print()            \n",
    "            print()            \n",
    "            print()  \n",
    "        '''\n",
    "        return list(prediction.eval(feed_dict = {x: test_x}))"
   ]
  },
  {
   "cell_type": "code",
   "execution_count": 11,
   "metadata": {},
   "outputs": [],
   "source": [
    "def draw_prediction(x_data, prediction):\n",
    "    modified_x = x_data\n",
    "    dim = len(prediction)\n",
    "    print(dim)\n",
    "    for i in range(dim):\n",
    "        modified_x[i][4] = np.argmax(prediction[i])\n",
    "#         np.append(modified_x, [np.argmax(prediction[i])])\n",
    "    \n",
    "    print(modified_x)\n",
    "    draw_image(modified_x)"
   ]
  },
  {
   "cell_type": "markdown",
   "metadata": {},
   "source": [
    "The first dataset tested is two solid colored blocks placed to the left and the right of each other. The image is 100x100 pixels."
   ]
  },
  {
   "cell_type": "code",
   "execution_count": 11,
   "metadata": {},
   "outputs": [
    {
     "data": {
      "image/png": "[encoded data removed]",
      "text/plain": [
       "<Figure size 432x288 with 1 Axes>"
      ]
     },
     "metadata": {
      "needs_background": "light"
     },
     "output_type": "display_data"
    }
   ],
   "source": [
    "data_x, data_y, shape = extract_data('two_blocks_lr.txt', num_labels)\n",
    "\n",
    "# Randomly take 9000 pixels to test on. The training set is only 1000\n",
    "train_x, train_y, test_x, test_y = create_training_and_testing_sets(data_x, data_y, shape, 9000)\n",
    "draw_image(data_x)"
   ]
  },
  {
   "cell_type": "code",
   "execution_count": null,
   "metadata": {},
   "outputs": [],
   "source": []
  },
  {
   "cell_type": "markdown",
   "metadata": {},
   "source": [
    "First, we trained and ran the data on the entire dataset, then tested on the entire dataset. We ran 2000 Epochs and printed the loss every 1000 epochs.\n",
    "We did this 20 times."
   ]
  },
  {
   "cell_type": "code",
   "execution_count": 12,
   "metadata": {
    "scrolled": false
   },
   "outputs": [
    {
     "name": "stdout",
     "output_type": "stream",
     "text": [
      "Iteration:  0\n",
      "WARNING:tensorflow:From /Users/danielshu/.pyenv/versions/3.6.3/lib/python3.6/site-packages/tensorflow/python/framework/op_def_library.py:263: colocate_with (from tensorflow.python.framework.ops) is deprecated and will be removed in a future version.\n",
      "Instructions for updating:\n",
      "Colocations handled automatically by placer.\n",
      "WARNING:tensorflow:From /Users/danielshu/.pyenv/versions/3.6.3/lib/python3.6/site-packages/tensorflow/python/ops/math_ops.py:3066: to_int32 (from tensorflow.python.ops.math_ops) is deprecated and will be removed in a future version.\n",
      "Instructions for updating:\n",
      "Use tf.cast instead.\n",
      "loss: 1.3138673\n",
      "loss: 0.40285686\n",
      "Training Accuracy: 0.9834\n",
      "Testing Accuracy: 0.9834\n",
      "Iteration:  1\n",
      "loss: 1.3795977\n",
      "loss: 0.4107583\n",
      "Training Accuracy: 0.9097\n",
      "Testing Accuracy: 0.9097\n",
      "Iteration:  2\n",
      "loss: 1.3984808\n",
      "loss: 0.41163695\n",
      "Training Accuracy: 0.9122\n",
      "Testing Accuracy: 0.9122\n",
      "Iteration:  3\n",
      "loss: 1.3513399\n",
      "loss: 0.40976068\n",
      "Training Accuracy: 0.9114\n",
      "Testing Accuracy: 0.9114\n",
      "Iteration:  4\n",
      "loss: 1.3914944\n",
      "loss: 0.40904132\n",
      "Training Accuracy: 0.9108\n",
      "Testing Accuracy: 0.9108\n",
      "Iteration:  5\n",
      "loss: 1.3776042\n",
      "loss: 0.40500522\n",
      "Training Accuracy: 0.9835\n",
      "Testing Accuracy: 0.9835\n",
      "Iteration:  6\n",
      "loss: 1.4004954\n",
      "loss: 0.40995932\n",
      "Training Accuracy: 0.9086\n",
      "Testing Accuracy: 0.9086\n",
      "Iteration:  7\n",
      "loss: 1.393941\n",
      "loss: 0.40375465\n",
      "Training Accuracy: 0.984\n",
      "Testing Accuracy: 0.984\n",
      "Iteration:  8\n",
      "loss: 1.3735456\n",
      "loss: 0.40601766\n",
      "Training Accuracy: 0.984\n",
      "Testing Accuracy: 0.984\n",
      "Iteration:  9\n",
      "loss: 1.3983244\n",
      "loss: 0.4118043\n",
      "Training Accuracy: 0.9085\n",
      "Testing Accuracy: 0.9085\n",
      "Iteration:  10\n",
      "loss: 1.3997793\n",
      "loss: 0.40395644\n",
      "Training Accuracy: 0.9838\n",
      "Testing Accuracy: 0.9838\n",
      "Iteration:  11\n",
      "loss: 1.377639\n",
      "loss: 0.41094175\n",
      "Training Accuracy: 0.9112\n",
      "Testing Accuracy: 0.9112\n",
      "Iteration:  12\n",
      "loss: 1.3920355\n",
      "loss: 0.41092867\n",
      "Training Accuracy: 0.9091\n",
      "Testing Accuracy: 0.9091\n",
      "Iteration:  13\n",
      "loss: 1.3994749\n",
      "loss: 0.4021211\n",
      "Training Accuracy: 0.9839\n",
      "Testing Accuracy: 0.9839\n",
      "Iteration:  14\n",
      "loss: 1.3806905\n",
      "loss: 0.40981153\n",
      "Training Accuracy: 0.91\n",
      "Testing Accuracy: 0.91\n",
      "Iteration:  15\n",
      "loss: 1.3486967\n",
      "loss: 0.4106648\n",
      "Training Accuracy: 0.9079\n",
      "Testing Accuracy: 0.9079\n",
      "Iteration:  16\n",
      "loss: 1.3576438\n",
      "loss: 0.41197774\n",
      "Training Accuracy: 0.9095\n",
      "Testing Accuracy: 0.9095\n",
      "Iteration:  17\n",
      "loss: 1.459703\n",
      "loss: 0.4112825\n",
      "Training Accuracy: 0.9071\n",
      "Testing Accuracy: 0.9071\n",
      "Iteration:  18\n",
      "loss: 1.3878758\n",
      "loss: 0.41006714\n",
      "Training Accuracy: 0.9121\n",
      "Testing Accuracy: 0.9121\n",
      "Iteration:  19\n",
      "loss: 1.3689189\n",
      "loss: 0.41363052\n",
      "Training Accuracy: 0.9071\n",
      "Testing Accuracy: 0.9071\n"
     ]
    }
   ],
   "source": [
    "for i in range(1):\n",
    "    print(\"Iteration: \", i )\n",
    "    x, y, init, train_op, loss, accuracy, prediction = build_model()\n",
    "    run(x, y, init, train_op, loss, accuracy, data_x, data_y, data_x, data_y, prediction)\n",
    "    "
   ]
  },
  {
   "cell_type": "markdown",
   "metadata": {},
   "source": [
    "Aftwards, we extracted 9000 datapoints for testing and trained on 1000"
   ]
  },
  {
   "cell_type": "code",
   "execution_count": 13,
   "metadata": {},
   "outputs": [
    {
     "data": {
      "image/png": "[encoded data removed]",
      "text/plain": [
       "<Figure size 432x288 with 1 Axes>"
      ]
     },
     "metadata": {
      "needs_background": "light"
     },
     "output_type": "display_data"
    }
   ],
   "source": [
    "draw_image(train_x)"
   ]
  },
  {
   "cell_type": "code",
   "execution_count": 14,
   "metadata": {},
   "outputs": [
    {
     "name": "stdout",
     "output_type": "stream",
     "text": [
      "Iteration:  0\n",
      "loss: 1.4159116\n",
      "loss: 0.39862922\n",
      "Training Accuracy: 0.911\n",
      "Testing Accuracy: 0.917\n",
      "Iteration:  1\n",
      "loss: 1.3779237\n",
      "loss: 0.3940402\n",
      "Training Accuracy: 0.982\n",
      "Testing Accuracy: 0.9778889\n",
      "Iteration:  2\n",
      "loss: 1.378389\n",
      "loss: 0.39460242\n",
      "Training Accuracy: 0.982\n",
      "Testing Accuracy: 0.97744447\n",
      "Iteration:  3\n",
      "loss: 1.3789707\n",
      "loss: 0.3935081\n",
      "Training Accuracy: 0.982\n",
      "Testing Accuracy: 0.9776667\n",
      "Iteration:  4\n",
      "loss: 1.4004109\n",
      "loss: 0.40027794\n",
      "Training Accuracy: 0.909\n",
      "Testing Accuracy: 0.9161111\n",
      "Iteration:  5\n",
      "loss: 1.365199\n",
      "loss: 0.39400104\n",
      "Training Accuracy: 0.982\n",
      "Testing Accuracy: 0.9761111\n",
      "Iteration:  6\n",
      "loss: 1.360635\n",
      "loss: 0.392596\n",
      "Training Accuracy: 0.982\n",
      "Testing Accuracy: 0.978\n",
      "Iteration:  7\n",
      "loss: 1.3777261\n",
      "loss: 0.39381084\n",
      "Training Accuracy: 0.982\n",
      "Testing Accuracy: 0.9773333\n",
      "Iteration:  8\n",
      "loss: 1.4058796\n",
      "loss: 0.3987022\n",
      "Training Accuracy: 0.908\n",
      "Testing Accuracy: 0.9152222\n",
      "Iteration:  9\n",
      "loss: 1.37722\n",
      "loss: 0.39268312\n",
      "Training Accuracy: 0.986\n",
      "Testing Accuracy: 0.98044443\n",
      "Iteration:  10\n",
      "loss: 1.3780564\n",
      "loss: 0.3922323\n",
      "Training Accuracy: 0.982\n",
      "Testing Accuracy: 0.9764444\n",
      "Iteration:  11\n",
      "loss: 1.3927447\n",
      "loss: 0.3986729\n",
      "Training Accuracy: 0.911\n",
      "Testing Accuracy: 0.9167778\n",
      "Iteration:  12\n",
      "loss: 1.3049715\n",
      "loss: 0.39883292\n",
      "Training Accuracy: 0.912\n",
      "Testing Accuracy: 0.9178889\n",
      "Iteration:  13\n",
      "loss: 1.3743747\n",
      "loss: 0.40066308\n",
      "Training Accuracy: 0.909\n",
      "Testing Accuracy: 0.91433334\n",
      "Iteration:  14\n",
      "loss: 1.391083\n",
      "loss: 0.4005523\n",
      "Training Accuracy: 0.912\n",
      "Testing Accuracy: 0.9172222\n",
      "Iteration:  15\n",
      "loss: 1.3221419\n",
      "loss: 0.3986828\n",
      "Training Accuracy: 0.912\n",
      "Testing Accuracy: 0.9175556\n",
      "Iteration:  16\n",
      "loss: 1.4776568\n",
      "loss: 0.39960727\n",
      "Training Accuracy: 0.909\n",
      "Testing Accuracy: 0.91555554\n",
      "Iteration:  17\n",
      "loss: 1.3814293\n",
      "loss: 0.39556283\n",
      "Training Accuracy: 0.982\n",
      "Testing Accuracy: 0.9772222\n",
      "Iteration:  18\n",
      "loss: 1.3785655\n",
      "loss: 0.39958605\n",
      "Training Accuracy: 0.909\n",
      "Testing Accuracy: 0.91477776\n",
      "Iteration:  19\n",
      "loss: 1.3628039\n",
      "loss: 0.3936159\n",
      "Training Accuracy: 0.982\n",
      "Testing Accuracy: 0.9762222\n"
     ]
    }
   ],
   "source": [
    "for i in range(20):\n",
    "    print(\"Iteration: \", i )\n",
    "    x, y, init, train_op, loss, accuracy, prediction = build_model()\n",
    "    run(x, y, init, train_op, loss, accuracy, train_x, train_y, test_x, test_y, prediction)"
   ]
  },
  {
   "cell_type": "markdown",
   "metadata": {},
   "source": [
    "Next we also tested with the two colors on top of each other and on two opposite sides of a diagonal."
   ]
  },
  {
   "cell_type": "code",
   "execution_count": 15,
   "metadata": {},
   "outputs": [
    {
     "data": {
      "image/png": "[encoded data removed]",
      "text/plain": [
       "<Figure size 432x288 with 1 Axes>"
      ]
     },
     "metadata": {
      "needs_background": "light"
     },
     "output_type": "display_data"
    }
   ],
   "source": [
    "data_x, data_y, shape = extract_data('two_blocks_tb.txt', num_labels)\n",
    "\n",
    "# Randomly take 9000 pixels to test on. The training set is only 1000\n",
    "train_x, train_y, test_x, test_y = create_training_and_testing_sets(data_x, data_y, shape, 9000)\n",
    "draw_image(data_x)"
   ]
  },
  {
   "cell_type": "code",
   "execution_count": 16,
   "metadata": {},
   "outputs": [
    {
     "name": "stdout",
     "output_type": "stream",
     "text": [
      "Iteration:  0\n",
      "loss: 1.3759518\n",
      "loss: 0.40943286\n",
      "Training Accuracy: 0.9109\n",
      "Testing Accuracy: 0.9109\n",
      "Iteration:  1\n",
      "loss: 1.4012954\n",
      "loss: 0.4052122\n",
      "Training Accuracy: 0.9841\n",
      "Testing Accuracy: 0.9841\n",
      "Iteration:  2\n",
      "loss: 1.3643445\n",
      "loss: 0.41513208\n",
      "Training Accuracy: 0.9095\n",
      "Testing Accuracy: 0.9095\n",
      "Iteration:  3\n",
      "loss: 1.3822191\n",
      "loss: 0.4056404\n",
      "Training Accuracy: 0.984\n",
      "Testing Accuracy: 0.984\n",
      "Iteration:  4\n",
      "loss: 1.3952708\n",
      "loss: 0.4036928\n",
      "Training Accuracy: 0.9851\n",
      "Testing Accuracy: 0.9851\n",
      "Iteration:  5\n",
      "loss: 1.3947557\n",
      "loss: 0.40357408\n",
      "Training Accuracy: 0.9841\n",
      "Testing Accuracy: 0.9841\n",
      "Iteration:  6\n",
      "loss: 1.4056766\n",
      "loss: 0.40380317\n",
      "Training Accuracy: 0.9847\n",
      "Testing Accuracy: 0.9847\n",
      "Iteration:  7\n",
      "loss: 1.3674237\n",
      "loss: 0.41721475\n",
      "Training Accuracy: 0.9114\n",
      "Testing Accuracy: 0.9114\n",
      "Iteration:  8\n",
      "loss: 1.3716996\n",
      "loss: 0.4031547\n",
      "Training Accuracy: 0.985\n",
      "Testing Accuracy: 0.985\n",
      "Iteration:  9\n",
      "loss: 1.3804631\n",
      "loss: 0.40487382\n",
      "Training Accuracy: 0.9836\n",
      "Testing Accuracy: 0.9836\n",
      "Iteration:  10\n",
      "loss: 1.3921205\n",
      "loss: 0.4102582\n",
      "Training Accuracy: 0.9095\n",
      "Testing Accuracy: 0.9095\n",
      "Iteration:  11\n",
      "loss: 1.4162904\n",
      "loss: 0.4151519\n",
      "Training Accuracy: 0.9091\n",
      "Testing Accuracy: 0.9091\n",
      "Iteration:  12\n",
      "loss: 1.4047178\n",
      "loss: 0.4120248\n",
      "Training Accuracy: 0.9112\n",
      "Testing Accuracy: 0.9112\n",
      "Iteration:  13\n",
      "loss: 1.4037529\n",
      "loss: 0.411802\n",
      "Training Accuracy: 0.9118\n",
      "Testing Accuracy: 0.9118\n",
      "Iteration:  14\n",
      "loss: 1.3932543\n",
      "loss: 0.40349498\n",
      "Training Accuracy: 0.9838\n",
      "Testing Accuracy: 0.9838\n",
      "Iteration:  15\n",
      "loss: 1.4085767\n",
      "loss: 0.4060046\n",
      "Training Accuracy: 0.9843\n",
      "Testing Accuracy: 0.9843\n",
      "Iteration:  16\n",
      "loss: 1.385456\n",
      "loss: 0.41270965\n",
      "Training Accuracy: 0.9091\n",
      "Testing Accuracy: 0.9091\n",
      "Iteration:  17\n",
      "loss: 1.3475051\n",
      "loss: 0.40422362\n",
      "Training Accuracy: 0.9844\n",
      "Testing Accuracy: 0.9844\n",
      "Iteration:  18\n",
      "loss: 1.4027348\n",
      "loss: 0.4020527\n",
      "Training Accuracy: 0.9825\n",
      "Testing Accuracy: 0.9825\n",
      "Iteration:  19\n",
      "loss: 1.4092307\n",
      "loss: 0.40244198\n",
      "Training Accuracy: 0.9842\n",
      "Testing Accuracy: 0.9842\n"
     ]
    }
   ],
   "source": [
    "for i in range(20):\n",
    "    print(\"Iteration: \", i )\n",
    "    x, y, init, train_op, loss, accuracy, prediction = build_model()\n",
    "    run(x, y, init, train_op, loss, accuracy, data_x, data_y, data_x, data_y, prediction)"
   ]
  },
  {
   "cell_type": "markdown",
   "metadata": {},
   "source": [
    "Diagonal:"
   ]
  },
  {
   "cell_type": "code",
   "execution_count": 140,
   "metadata": {},
   "outputs": [
    {
     "data": {
      "image/png": "[encoded data removed]",
      "text/plain": [
       "<Figure size 432x288 with 1 Axes>"
      ]
     },
     "metadata": {
      "needs_background": "light"
     },
     "output_type": "display_data"
    }
   ],
   "source": [
    "data_x, data_y, shape = extract_data('two_blocks_diag.txt', num_labels)\n",
    "\n",
    "# Randomly take 9000 pixels to test on. The training set is only 1000\n",
    "train_x, train_y, test_x, test_y = create_training_and_testing_sets(data_x, data_y, shape, 9000)\n",
    "draw_image(train_x)"
   ]
  },
  {
   "cell_type": "code",
   "execution_count": 142,
   "metadata": {},
   "outputs": [
    {
     "name": "stdout",
     "output_type": "stream",
     "text": [
      "Iteration:  0\n",
      "loss: 1.3507522\n",
      "loss: 0.060109925\n",
      "Training Accuracy: 0.9881818\n",
      "Testing Accuracy: 0.9892222\n",
      "Iteration:  1\n",
      "loss: 1.4207096\n",
      "loss: 0.062251836\n",
      "Training Accuracy: 0.9881818\n",
      "Testing Accuracy: 0.9902222\n",
      "Iteration:  2\n",
      "loss: 1.3802321\n",
      "loss: 0.05985636\n",
      "Training Accuracy: 0.9881818\n",
      "Testing Accuracy: 0.98933333\n",
      "Iteration:  3\n",
      "loss: 1.387581\n",
      "loss: 0.059598334\n",
      "Training Accuracy: 0.9881818\n",
      "Testing Accuracy: 0.9892222\n",
      "Iteration:  4\n",
      "loss: 1.4081017\n",
      "loss: 0.05959494\n",
      "Training Accuracy: 0.9881818\n",
      "Testing Accuracy: 0.9892222\n",
      "Iteration:  5\n",
      "loss: 1.3832333\n",
      "loss: 0.05958324\n",
      "Training Accuracy: 0.9881818\n",
      "Testing Accuracy: 0.98933333\n",
      "Iteration:  6\n",
      "loss: 1.4039774\n",
      "loss: 0.05968848\n",
      "Training Accuracy: 0.9881818\n",
      "Testing Accuracy: 0.9892222\n",
      "Iteration:  7\n",
      "loss: 1.3709445\n",
      "loss: 0.06225088\n",
      "Training Accuracy: 0.9881818\n",
      "Testing Accuracy: 0.9901111\n",
      "Iteration:  8\n",
      "loss: 1.3997668\n",
      "loss: 0.05988766\n",
      "Training Accuracy: 0.9881818\n",
      "Testing Accuracy: 0.9892222\n",
      "Iteration:  9\n",
      "loss: 1.3878275\n",
      "loss: 0.062123545\n",
      "Training Accuracy: 0.9881818\n",
      "Testing Accuracy: 0.9902222\n",
      "Iteration:  10\n",
      "loss: 1.3746051\n",
      "loss: 0.060188487\n",
      "Training Accuracy: 0.9881818\n",
      "Testing Accuracy: 0.9891111\n",
      "Iteration:  11\n",
      "loss: 1.3997762\n",
      "loss: 0.062197335\n",
      "Training Accuracy: 0.98727274\n",
      "Testing Accuracy: 0.9902222\n",
      "Iteration:  12\n",
      "loss: 1.3985641\n",
      "loss: 0.06215151\n",
      "Training Accuracy: 0.9881818\n",
      "Testing Accuracy: 0.9902222\n",
      "Iteration:  13\n",
      "loss: 1.372571\n",
      "loss: 0.061924126\n",
      "Training Accuracy: 0.9881818\n",
      "Testing Accuracy: 0.9902222\n",
      "Iteration:  14\n",
      "loss: 1.3687783\n",
      "loss: 0.06008532\n",
      "Training Accuracy: 0.9881818\n",
      "Testing Accuracy: 0.9892222\n",
      "Iteration:  15\n",
      "loss: 1.3917364\n",
      "loss: 0.06183486\n",
      "Training Accuracy: 0.9881818\n",
      "Testing Accuracy: 0.9902222\n",
      "Iteration:  16\n",
      "loss: 1.367445\n",
      "loss: 0.059608605\n",
      "Training Accuracy: 0.9881818\n",
      "Testing Accuracy: 0.9892222\n",
      "Iteration:  17\n",
      "loss: 1.412635\n",
      "loss: 0.06203089\n",
      "Training Accuracy: 0.98727274\n",
      "Testing Accuracy: 0.9903333\n",
      "Iteration:  18\n",
      "loss: 1.3919277\n",
      "loss: 0.060156133\n",
      "Training Accuracy: 0.9881818\n",
      "Testing Accuracy: 0.9891111\n",
      "Iteration:  19\n",
      "loss: 1.3941747\n",
      "loss: 0.059782054\n",
      "Training Accuracy: 0.9881818\n",
      "Testing Accuracy: 0.9892222\n"
     ]
    }
   ],
   "source": [
    "for i in range(20):\n",
    "    print(\"Iteration: \", i )\n",
    "    x, y, init, train_op, loss, accuracy, prediction = build_model()\n",
    "    run(x, y, init, train_op, loss, accuracy,train_x, train_y, test_x, test_y, prediction )"
   ]
  },
  {
   "cell_type": "markdown",
   "metadata": {},
   "source": [
    "We next tried a image where the number of red and blue dots was not the same."
   ]
  },
  {
   "cell_type": "code",
   "execution_count": 51,
   "metadata": {},
   "outputs": [
    {
     "data": {
      "image/png": "[encoded data removed]",
      "text/plain": [
       "<Figure size 432x288 with 1 Axes>"
      ]
     },
     "metadata": {
      "needs_background": "light"
     },
     "output_type": "display_data"
    },
    {
     "name": "stdout",
     "output_type": "stream",
     "text": [
      "Iteration:  0\n",
      "loss: 1.3838674\n",
      "loss: 0.34129062\n",
      "Training Accuracy: 0.948\n",
      "Testing Accuracy: 0.94155556\n",
      "9000\n",
      "[[ 0  0 16 35  0]\n",
      " [ 0  0 75 32  1]\n",
      " [ 0  0 91 11  1]\n",
      " ...\n",
      " [ 0  0 79 83  0]\n",
      " [ 0  0 18 16  0]\n",
      " [ 0  0 66 77  0]]\n"
     ]
    },
    {
     "data": {
      "image/png": "[encoded data removed]",
      "text/plain": [
       "<Figure size 432x288 with 1 Axes>"
      ]
     },
     "metadata": {
      "needs_background": "light"
     },
     "output_type": "display_data"
    }
   ],
   "source": [
    "data_x, data_y, shape = extract_data('corner_color.txt', num_labels)\n",
    "\n",
    "# Randomly take 9000 pixels to test on. The training set is only 1000\n",
    "train_x, train_y, test_x, test_y = create_training_and_testing_sets(data_x, data_y, shape, 9000)\n",
    "draw_image(train_x)\n",
    "\n",
    "for i in range(1):\n",
    "    print(\"Iteration: \", i )\n",
    "    x, y, init, train_op, loss, accuracy, prediction = build_model()\n",
    "    prediction = run(x, y, init, train_op, loss, accuracy, train_x, train_y, test_x, test_y, prediction )\n",
    "    draw_prediction(test_x, prediction)"
   ]
  },
  {
   "cell_type": "code",
   "execution_count": 65,
   "metadata": {},
   "outputs": [
    {
     "data": {
      "image/png": "[encoded data removed]",
      "text/plain": [
       "<Figure size 432x288 with 1 Axes>"
      ]
     },
     "metadata": {
      "needs_background": "light"
     },
     "output_type": "display_data"
    },
    {
     "name": "stdout",
     "output_type": "stream",
     "text": [
      "Iteration:  0\n",
      "loss: 1.389751\n",
      "loss: 0.3486269\n",
      "Training Accuracy: 0.9313\n",
      "Testing Accuracy: 0.9313\n",
      "10000\n",
      "[[ 0  0  0  0  0]\n",
      " [ 0  0  0  1  0]\n",
      " [ 0  0  0  2  0]\n",
      " ...\n",
      " [ 0  0 99 47  1]\n",
      " [ 0  0 99 48  1]\n",
      " [ 0  0 99 49  0]]\n"
     ]
    },
    {
     "data": {
      "image/png": "[encoded data removed]",
      "text/plain": [
       "<Figure size 432x288 with 1 Axes>"
      ]
     },
     "metadata": {
      "needs_background": "light"
     },
     "output_type": "display_data"
    }
   ],
   "source": [
    "data_x, data_y, shape = extract_data('corner_color.txt', num_labels)\n",
    "\n",
    "# Randomly take 9000 pixels to test on. The training set is only 1000\n",
    "train_x, train_y, test_x, test_y = create_training_and_testing_sets(data_x, data_y, shape, 9000)\n",
    "draw_image(data_x)\n",
    "\n",
    "for i in range(1):\n",
    "    print(\"Iteration: \", i )\n",
    "    x, y, init, train_op, loss, accuracy, prediction = build_model()\n",
    "    prediction = run(x, y, init, train_op, loss, accuracy, data_x, data_y, data_x, data_y, prediction )\n",
    "    draw_prediction(data_x, prediction)"
   ]
  },
  {
   "cell_type": "code",
   "execution_count": 144,
   "metadata": {},
   "outputs": [
    {
     "data": {
      "image/png": "[encoded data removed]",
      "text/plain": [
       "<Figure size 432x288 with 1 Axes>"
      ]
     },
     "metadata": {
      "needs_background": "light"
     },
     "output_type": "display_data"
    },
    {
     "name": "stdout",
     "output_type": "stream",
     "text": [
      "Iteration:  0\n",
      "loss: 1.3874474\n",
      "loss: 0.9931606\n",
      "Training Accuracy: 1.0\n",
      "Testing Accuracy: 1.0\n",
      "Iteration:  1\n",
      "loss: 1.3888959\n",
      "loss: 1.0548548\n",
      "Training Accuracy: 1.0\n",
      "Testing Accuracy: 1.0\n",
      "Iteration:  2\n",
      "loss: 1.3910882\n",
      "loss: 1.0633695\n",
      "Training Accuracy: 1.0\n",
      "Testing Accuracy: 1.0\n",
      "Iteration:  3\n",
      "loss: 1.3840473\n",
      "loss: 1.0516864\n",
      "Training Accuracy: 1.0\n",
      "Testing Accuracy: 1.0\n",
      "Iteration:  4\n",
      "loss: 1.3901113\n",
      "loss: 1.0023196\n",
      "Training Accuracy: 1.0\n",
      "Testing Accuracy: 1.0\n",
      "Iteration:  5\n",
      "loss: 1.3884748\n",
      "loss: 0.99569845\n",
      "Training Accuracy: 0.96666664\n",
      "Testing Accuracy: 0.974\n",
      "Iteration:  6\n",
      "loss: 1.3858262\n",
      "loss: 1.0016807\n",
      "Training Accuracy: 1.0\n",
      "Testing Accuracy: 1.0\n",
      "Iteration:  7\n",
      "loss: 1.3877584\n",
      "loss: 0.9996063\n",
      "Training Accuracy: 1.0\n",
      "Testing Accuracy: 1.0\n",
      "Iteration:  8\n",
      "loss: 1.3863953\n",
      "loss: 1.0598629\n",
      "Training Accuracy: 1.0\n",
      "Testing Accuracy: 1.0\n",
      "Iteration:  9\n",
      "loss: 1.3862959\n",
      "loss: 1.0623719\n",
      "Training Accuracy: 1.0\n",
      "Testing Accuracy: 1.0\n",
      "Iteration:  10\n",
      "loss: 1.3860385\n",
      "loss: 1.041093\n",
      "Training Accuracy: 1.0\n",
      "Testing Accuracy: 1.0\n",
      "Iteration:  11\n",
      "loss: 1.3864858\n",
      "loss: 0.9958394\n",
      "Training Accuracy: 1.0\n",
      "Testing Accuracy: 1.0\n",
      "Iteration:  12\n",
      "loss: 1.3844095\n",
      "loss: 1.0630635\n",
      "Training Accuracy: 1.0\n",
      "Testing Accuracy: 1.0\n",
      "Iteration:  13\n",
      "loss: 1.3860121\n",
      "loss: 0.9935923\n",
      "Training Accuracy: 1.0\n",
      "Testing Accuracy: 1.0\n",
      "Iteration:  14\n",
      "loss: 1.3878642\n",
      "loss: 1.046036\n",
      "Training Accuracy: 1.0\n",
      "Testing Accuracy: 1.0\n",
      "Iteration:  15\n",
      "loss: 1.3854018\n",
      "loss: 1.0659345\n",
      "Training Accuracy: 1.0\n",
      "Testing Accuracy: 1.0\n",
      "Iteration:  16\n",
      "loss: 1.386223\n",
      "loss: 0.98613006\n",
      "Training Accuracy: 1.0\n",
      "Testing Accuracy: 1.0\n",
      "Iteration:  17\n",
      "loss: 1.3879824\n",
      "loss: 1.0632843\n",
      "Training Accuracy: 1.0\n",
      "Testing Accuracy: 1.0\n",
      "Iteration:  18\n",
      "loss: 1.3863854\n",
      "loss: 1.0829496\n",
      "Training Accuracy: 1.0\n",
      "Testing Accuracy: 1.0\n",
      "Iteration:  19\n",
      "loss: 1.385471\n",
      "loss: 0.99005777\n",
      "Training Accuracy: 1.0\n",
      "Testing Accuracy: 1.0\n"
     ]
    }
   ],
   "source": [
    "data_x, data_y, shape = extract_data('checkerboard_big.txt', num_labels)\n",
    "\n",
    "# Randomly take 1000 pixels to test on. The training set is only 600\n",
    "train_x, train_y, test_x, test_y = create_training_and_testing_sets(data_x, data_y, shape, 1000)\n",
    "draw_image(train_x)\n",
    "\n",
    "for i in range(20):\n",
    "    print(\"Iteration: \", i )\n",
    "    x, y, init, train_op, loss, accuracy, prediction = build_model()\n",
    "    run(x, y, init, train_op, loss, accuracy, train_x, train_y, test_x, test_y, prediction )"
   ]
  },
  {
   "cell_type": "markdown",
   "metadata": {},
   "source": [
    "The checkerboard seems to be really easy and gets 100% accuracy almost all the time, even though it is more complicated than the other patterns."
   ]
  },
  {
   "cell_type": "markdown",
   "metadata": {},
   "source": [
    "We then tested a checkerboard that had gaps within it and it still had extremely good results."
   ]
  },
  {
   "cell_type": "code",
   "execution_count": 150,
   "metadata": {},
   "outputs": [
    {
     "name": "stdout",
     "output_type": "stream",
     "text": [
      "800\n"
     ]
    },
    {
     "data": {
      "image/png": "[encoded data removed]",
      "text/plain": [
       "<Figure size 432x288 with 1 Axes>"
      ]
     },
     "metadata": {
      "needs_background": "light"
     },
     "output_type": "display_data"
    },
    {
     "name": "stdout",
     "output_type": "stream",
     "text": [
      "Iteration:  0\n",
      "loss: 1.3904954\n",
      "loss: 0.61919725\n",
      "Training Accuracy: 0.986\n",
      "Testing Accuracy: 0.99333334\n",
      "Iteration:  1\n",
      "loss: 1.388801\n",
      "loss: 0.76798856\n",
      "Training Accuracy: 0.848\n",
      "Testing Accuracy: 0.85\n",
      "Iteration:  2\n",
      "loss: 1.38734\n",
      "loss: 0.6191046\n",
      "Training Accuracy: 0.986\n",
      "Testing Accuracy: 0.99\n",
      "Iteration:  3\n",
      "loss: 1.3761032\n",
      "loss: 0.78183377\n",
      "Training Accuracy: 0.858\n",
      "Testing Accuracy: 0.87333333\n",
      "Iteration:  4\n",
      "loss: 1.3865979\n",
      "loss: 0.61821645\n",
      "Training Accuracy: 0.986\n",
      "Testing Accuracy: 0.99\n",
      "Iteration:  5\n",
      "loss: 1.3824471\n",
      "loss: 0.6270792\n",
      "Training Accuracy: 0.988\n",
      "Testing Accuracy: 0.99333334\n",
      "Iteration:  6\n",
      "loss: 1.3797973\n",
      "loss: 0.7810064\n",
      "Training Accuracy: 0.86\n",
      "Testing Accuracy: 0.87333333\n",
      "Iteration:  7\n",
      "loss: 1.3913155\n",
      "loss: 0.6172248\n",
      "Training Accuracy: 0.986\n",
      "Testing Accuracy: 0.99\n",
      "Iteration:  8\n",
      "loss: 1.3870474\n",
      "loss: 0.7721905\n",
      "Training Accuracy: 0.86\n",
      "Testing Accuracy: 0.87333333\n",
      "Iteration:  9\n",
      "loss: 1.3806859\n",
      "loss: 0.61035556\n",
      "Training Accuracy: 1.0\n",
      "Testing Accuracy: 1.0\n",
      "Iteration:  10\n",
      "loss: 1.3949951\n",
      "loss: 0.7730263\n",
      "Training Accuracy: 0.86\n",
      "Testing Accuracy: 0.87333333\n",
      "Iteration:  11\n",
      "loss: 1.3996623\n",
      "loss: 0.6127554\n",
      "Training Accuracy: 0.988\n",
      "Testing Accuracy: 0.99333334\n",
      "Iteration:  12\n",
      "loss: 1.3884782\n",
      "loss: 0.61274576\n",
      "Training Accuracy: 0.988\n",
      "Testing Accuracy: 0.99333334\n",
      "Iteration:  13\n",
      "loss: 1.3801657\n",
      "loss: 0.61520875\n",
      "Training Accuracy: 0.986\n",
      "Testing Accuracy: 0.99333334\n",
      "Iteration:  14\n",
      "loss: 1.3881768\n",
      "loss: 0.6190769\n",
      "Training Accuracy: 0.986\n",
      "Testing Accuracy: 0.9866667\n",
      "Iteration:  15\n",
      "loss: 1.3844504\n",
      "loss: 0.783129\n",
      "Training Accuracy: 0.86\n",
      "Testing Accuracy: 0.87\n",
      "Iteration:  16\n",
      "loss: 1.3935678\n",
      "loss: 0.7850902\n",
      "Training Accuracy: 0.852\n",
      "Testing Accuracy: 0.8666667\n",
      "Iteration:  17\n",
      "loss: 1.3898672\n",
      "loss: 0.6186227\n",
      "Training Accuracy: 0.984\n",
      "Testing Accuracy: 0.99\n",
      "Iteration:  18\n",
      "loss: 1.3904333\n",
      "loss: 0.78614134\n",
      "Training Accuracy: 0.858\n",
      "Testing Accuracy: 0.87333333\n",
      "Iteration:  19\n",
      "loss: 1.4010203\n",
      "loss: 0.61531866\n",
      "Training Accuracy: 0.988\n",
      "Testing Accuracy: 0.99\n"
     ]
    }
   ],
   "source": [
    "data_x, data_y, shape = extract_data('checkerboard_weird.txt', num_labels)\n",
    "print(shape)\n",
    "# Randomly take 300 pixels to test on. The training set is only 500\n",
    "train_x, train_y, test_x, test_y = create_training_and_testing_sets(data_x, data_y, shape, 300 )\n",
    "draw_image(train_x)\n",
    "\n",
    "for i in range(20):\n",
    "    print(\"Iteration: \", i )\n",
    "    x, y, init, train_op, loss, accuracy, prediction = build_model()\n",
    "    run(x, y, init, train_op, loss, accuracy, train_x, train_y, test_x, test_y, prediction )"
   ]
  },
  {
   "cell_type": "markdown",
   "metadata": {},
   "source": [
    "We tried one more time with a 50x50 square in the middle of a bunch of other points. "
   ]
  },
  {
   "cell_type": "code",
   "execution_count": 35,
   "metadata": {},
   "outputs": [
    {
     "name": "stdout",
     "output_type": "stream",
     "text": [
      "10000\n"
     ]
    },
    {
     "data": {
      "image/png": "[encoded data removed]",
      "text/plain": [
       "<Figure size 432x288 with 1 Axes>"
      ]
     },
     "metadata": {
      "needs_background": "light"
     },
     "output_type": "display_data"
    },
    {
     "name": "stdout",
     "output_type": "stream",
     "text": [
      "Iteration:  0\n",
      "loss: 1.3804561\n",
      "loss: 1.092165\n",
      "Training Accuracy: 0.949\n",
      "Testing Accuracy: 0.95255554\n",
      "<class 'list'>\n",
      "Iteration:  1\n",
      "loss: 1.3998913\n",
      "loss: 1.0906624\n",
      "Training Accuracy: 0.954\n",
      "Testing Accuracy: 0.95622224\n",
      "<class 'list'>\n",
      "Iteration:  2\n",
      "loss: 1.3783342\n",
      "loss: 1.0912303\n",
      "Training Accuracy: 0.955\n",
      "Testing Accuracy: 0.9576667\n",
      "<class 'list'>\n",
      "Iteration:  3\n",
      "loss: 1.4057752\n",
      "loss: 1.0918366\n",
      "Training Accuracy: 0.951\n",
      "Testing Accuracy: 0.9538889\n",
      "<class 'list'>\n",
      "Iteration:  4\n",
      "loss: 1.3697872\n",
      "loss: 1.11201\n",
      "Training Accuracy: 0.734\n",
      "Testing Accuracy: 0.75177777\n",
      "<class 'list'>\n",
      "Iteration:  5\n",
      "loss: 1.3722929\n",
      "loss: 1.091939\n",
      "Training Accuracy: 0.95\n",
      "Testing Accuracy: 0.9533333\n",
      "<class 'list'>\n",
      "Iteration:  6\n",
      "loss: 1.3893324\n",
      "loss: 1.1127483\n",
      "Training Accuracy: 0.734\n",
      "Testing Accuracy: 0.75177777\n",
      "<class 'list'>\n",
      "Iteration:  7\n",
      "loss: 1.3809677\n",
      "loss: 1.1153091\n",
      "Training Accuracy: 0.734\n",
      "Testing Accuracy: 0.75177777\n",
      "<class 'list'>\n",
      "Iteration:  8\n",
      "loss: 1.3904966\n",
      "loss: 1.1126634\n",
      "Training Accuracy: 0.734\n",
      "Testing Accuracy: 0.75177777\n",
      "<class 'list'>\n",
      "Iteration:  9\n",
      "loss: 1.3815585\n",
      "loss: 1.1135807\n",
      "Training Accuracy: 0.734\n",
      "Testing Accuracy: 0.75177777\n",
      "<class 'list'>\n",
      "Iteration:  10\n",
      "loss: 1.3946425\n",
      "loss: 1.1120386\n",
      "Training Accuracy: 0.734\n",
      "Testing Accuracy: 0.75177777\n",
      "<class 'list'>\n",
      "Iteration:  11\n",
      "loss: 1.3838838\n",
      "loss: 1.1115491\n",
      "Training Accuracy: 0.734\n",
      "Testing Accuracy: 0.75177777\n",
      "<class 'list'>\n",
      "Iteration:  12\n",
      "loss: 1.3951027\n",
      "loss: 1.0920007\n",
      "Training Accuracy: 0.949\n",
      "Testing Accuracy: 0.95233333\n",
      "<class 'list'>\n",
      "Iteration:  13\n",
      "loss: 1.3880357\n",
      "loss: 1.0929296\n",
      "Training Accuracy: 0.946\n",
      "Testing Accuracy: 0.9494445\n",
      "<class 'list'>\n",
      "Iteration:  14\n",
      "loss: 1.3834454\n",
      "loss: 1.0871958\n",
      "Training Accuracy: 0.972\n",
      "Testing Accuracy: 0.9737778\n",
      "<class 'list'>\n",
      "Iteration:  15\n",
      "loss: 1.3570495\n",
      "loss: 1.111451\n",
      "Training Accuracy: 0.734\n",
      "Testing Accuracy: 0.75177777\n",
      "<class 'list'>\n",
      "Iteration:  16\n",
      "loss: 1.3859253\n",
      "loss: 1.0906178\n",
      "Training Accuracy: 0.955\n",
      "Testing Accuracy: 0.9581111\n",
      "<class 'list'>\n",
      "Iteration:  17\n",
      "loss: 1.4088316\n",
      "loss: 1.0900623\n",
      "Training Accuracy: 0.96\n",
      "Testing Accuracy: 0.96166664\n",
      "<class 'list'>\n",
      "Iteration:  18\n",
      "loss: 1.4064902\n",
      "loss: 1.1122037\n",
      "Training Accuracy: 0.734\n",
      "Testing Accuracy: 0.75177777\n",
      "<class 'list'>\n",
      "Iteration:  19\n",
      "loss: 1.3767884\n",
      "loss: 1.0938572\n",
      "Training Accuracy: 0.939\n",
      "Testing Accuracy: 0.9446667\n",
      "<class 'list'>\n"
     ]
    }
   ],
   "source": [
    "data_x, data_y, shape = extract_data('block_in_middle.txt', num_labels)\n",
    "print(shape)\n",
    "# Randomly take 9000 pixels to test on. The training set is only 1000\n",
    "train_x, train_y, test_x, test_y = create_training_and_testing_sets(data_x, data_y, shape, 9000 )\n",
    "draw_image(train_x)\n",
    "\n",
    "for i in range(20):\n",
    "    print(\"Iteration: \", i )\n",
    "    x, y, init, train_op, loss, accuracy, prediction = build_model()\n",
    "    prediction = run(x, y, init, train_op, loss, accuracy, train_x, train_y, test_x, test_y, prediction )\n",
    "    print(type(prediction))\n",
    "    #draw_prediction(test_x, prediction)"
   ]
  },
  {
   "cell_type": "markdown",
   "metadata": {},
   "source": [
    "Our testing and training accuracy fluctuated a lot more and was always between 75% and 90%. Increasing the amount of training data points did not help."
   ]
  },
  {
   "cell_type": "code",
   "execution_count": 33,
   "metadata": {},
   "outputs": [
    {
     "name": "stdout",
     "output_type": "stream",
     "text": [
      "10000\n"
     ]
    },
    {
     "data": {
      "image/png": "[encoded data removed]",
      "text/plain": [
       "<Figure size 432x288 with 1 Axes>"
      ]
     },
     "metadata": {
      "needs_background": "light"
     },
     "output_type": "display_data"
    },
    {
     "name": "stdout",
     "output_type": "stream",
     "text": [
      "Iteration:  0\n",
      "loss: 1.3938221\n",
      "loss: 1.0832794\n",
      "Training Accuracy: 0.7508889\n",
      "Testing Accuracy: 0.742\n",
      "Tensor(\"Softmax_10:0\", shape=(?, 2), dtype=float32)\n",
      "[[0.94396603 0.05603398]\n",
      " [0.9062357  0.09376425]\n",
      " [0.9112285  0.08877148]\n",
      " ...\n",
      " [0.7994137  0.20058635]\n",
      " [0.90838695 0.09161303]\n",
      " [0.8126671  0.18733297]]\n",
      "Iteration:  1\n",
      "loss: 1.378022\n",
      "loss: 1.0818646\n",
      "Training Accuracy: 0.7508889\n",
      "Testing Accuracy: 0.742\n",
      "Tensor(\"Softmax_11:0\", shape=(?, 2), dtype=float32)\n",
      "[[0.9451774  0.05482262]\n",
      " [0.9076033  0.09239665]\n",
      " [0.9125933  0.08740668]\n",
      " ...\n",
      " [0.7993634  0.20063664]\n",
      " [0.9097252  0.09027481]\n",
      " [0.81278753 0.1872124 ]]\n",
      "Iteration:  2\n",
      "loss: 1.3999164\n",
      "loss: 1.08141\n",
      "Training Accuracy: 0.7508889\n",
      "Testing Accuracy: 0.742\n",
      "Tensor(\"Softmax_12:0\", shape=(?, 2), dtype=float32)\n",
      "[[0.9456526  0.05434744]\n",
      " [0.90811914 0.09188082]\n",
      " [0.91311145 0.08688856]\n",
      " ...\n",
      " [0.79930526 0.20069471]\n",
      " [0.9102298  0.08977019]\n",
      " [0.8128062  0.18719375]]\n",
      "Iteration:  3\n",
      "loss: 1.3840909\n",
      "loss: 1.0577888\n",
      "Training Accuracy: 0.90855557\n",
      "Testing Accuracy: 0.904\n",
      "Tensor(\"Softmax_13:0\", shape=(?, 2), dtype=float32)\n",
      "[[0.62225044 0.3777495 ]\n",
      " [0.6539159  0.3460841 ]\n",
      " [0.64966303 0.350337  ]\n",
      " ...\n",
      " [0.50691533 0.49308467]\n",
      " [0.66012007 0.3398799 ]\n",
      " [0.5004927  0.49950728]]\n",
      "Iteration:  4\n",
      "loss: 1.3983915\n",
      "loss: 1.081504\n",
      "Training Accuracy: 0.7508889\n",
      "Testing Accuracy: 0.742\n",
      "Tensor(\"Softmax_14:0\", shape=(?, 2), dtype=float32)\n",
      "[[0.94564056 0.05435941]\n",
      " [0.90812296 0.09187707]\n",
      " [0.91311234 0.08688759]\n",
      " ...\n",
      " [0.7993329  0.2006671 ]\n",
      " [0.91023445 0.08976558]\n",
      " [0.8128255  0.1871745 ]]\n",
      "Iteration:  5\n",
      "loss: 1.3905256\n",
      "loss: 1.0578564\n",
      "Training Accuracy: 0.9077778\n",
      "Testing Accuracy: 0.903\n",
      "Tensor(\"Softmax_15:0\", shape=(?, 2), dtype=float32)\n",
      "[[0.62232906 0.37767094]\n",
      " [0.65395606 0.34604397]\n",
      " [0.6497075  0.3502925 ]\n",
      " ...\n",
      " [0.5070869  0.49291313]\n",
      " [0.66015947 0.3398405 ]\n",
      " [0.5006706  0.49932945]]\n",
      "Iteration:  6\n",
      "loss: 1.3946879\n",
      "loss: 1.0835605\n",
      "Training Accuracy: 0.7508889\n",
      "Testing Accuracy: 0.742\n",
      "Tensor(\"Softmax_16:0\", shape=(?, 2), dtype=float32)\n",
      "[[0.9437859  0.05621413]\n",
      " [0.9060423  0.09395772]\n",
      " [0.9110339  0.08896612]\n",
      " ...\n",
      " [0.79943436 0.20056562]\n",
      " [0.9081983  0.0918017 ]\n",
      " [0.8126592  0.18734075]]\n",
      "Iteration:  7\n",
      "loss: 1.3526067\n",
      "loss: 1.0810779\n",
      "Training Accuracy: 0.7508889\n",
      "Testing Accuracy: 0.742\n",
      "Tensor(\"Softmax_17:0\", shape=(?, 2), dtype=float32)\n",
      "[[0.94569063 0.05430939]\n",
      " [0.908249   0.09175093]\n",
      " [0.9132275  0.08677253]\n",
      " ...\n",
      " [0.799436   0.20056398]\n",
      " [0.9103578  0.08964224]\n",
      " [0.81291026 0.18708971]]\n",
      "Iteration:  8\n",
      "loss: 1.3965181\n",
      "loss: 1.0812656\n",
      "Training Accuracy: 0.7508889\n",
      "Testing Accuracy: 0.742\n",
      "Tensor(\"Softmax_18:0\", shape=(?, 2), dtype=float32)\n",
      "[[0.94572574 0.05427428]\n",
      " [0.9082501  0.09174991]\n",
      " [0.91323453 0.08676547]\n",
      " ...\n",
      " [0.79937506 0.20062502]\n",
      " [0.910359   0.08964097]\n",
      " [0.8128686  0.18713142]]\n",
      "Iteration:  9\n",
      "loss: 1.3863719\n",
      "loss: 1.0609463\n",
      "Training Accuracy: 0.8896667\n",
      "Testing Accuracy: 0.886\n",
      "Tensor(\"Softmax_19:0\", shape=(?, 2), dtype=float32)\n",
      "[[0.6225005  0.37749952]\n",
      " [0.6540572  0.34594285]\n",
      " [0.6498172  0.3501828 ]\n",
      " ...\n",
      " [0.5107542  0.48924577]\n",
      " [0.66025424 0.33974576]\n",
      " [0.50435114 0.49564892]]\n",
      "Iteration:  10\n",
      "loss: 1.3722137\n",
      "loss: 1.0824624\n",
      "Training Accuracy: 0.7508889\n",
      "Testing Accuracy: 0.742\n",
      "Tensor(\"Softmax_20:0\", shape=(?, 2), dtype=float32)\n",
      "[[0.9448357  0.05516423]\n",
      " [0.9071582  0.09284176]\n",
      " [0.91215837 0.08784167]\n",
      " ...\n",
      " [0.79928964 0.20071033]\n",
      " [0.90928906 0.0907109 ]\n",
      " [0.81268674 0.1873132 ]]\n",
      "Iteration:  11\n",
      "loss: 1.3883799\n",
      "loss: 1.0570271\n",
      "Training Accuracy: 0.91333336\n",
      "Testing Accuracy: 0.912\n",
      "Tensor(\"Softmax_21:0\", shape=(?, 2), dtype=float32)\n",
      "[[0.6222607  0.3777393 ]\n",
      " [0.6538489  0.3461511 ]\n",
      " [0.6496044  0.3503956 ]\n",
      " ...\n",
      " [0.50579864 0.4942014 ]\n",
      " [0.66005415 0.33994582]\n",
      " [0.49938926 0.50061077]]\n",
      "Iteration:  12\n",
      "loss: 1.3799775\n",
      "loss: 1.0817678\n",
      "Training Accuracy: 0.7508889\n",
      "Testing Accuracy: 0.742\n",
      "Tensor(\"Softmax_22:0\", shape=(?, 2), dtype=float32)\n",
      "[[0.9453375  0.05466254]\n",
      " [0.90779024 0.09220973]\n",
      " [0.9127789  0.08722114]\n",
      " ...\n",
      " [0.7993645  0.20063548]\n",
      " [0.9099088  0.09009128]\n",
      " [0.81280947 0.18719059]]\n",
      "Iteration:  13\n",
      "loss: 1.3911378\n",
      "loss: 1.0818276\n",
      "Training Accuracy: 0.7508889\n",
      "Testing Accuracy: 0.742\n",
      "Tensor(\"Softmax_23:0\", shape=(?, 2), dtype=float32)\n",
      "[[0.9451671  0.05483281]\n",
      " [0.9076184  0.09238158]\n",
      " [0.9126042  0.08739578]\n",
      " ...\n",
      " [0.79940456 0.20059541]\n",
      " [0.9097405  0.09025954]\n",
      " [0.81281745 0.18718253]]\n",
      "Iteration:  14\n",
      "loss: 1.4015586\n",
      "loss: 1.0820585\n",
      "Training Accuracy: 0.7508889\n",
      "Testing Accuracy: 0.742\n",
      "Tensor(\"Softmax_24:0\", shape=(?, 2), dtype=float32)\n",
      "[[0.945045   0.05495502]\n",
      " [0.907473   0.09252694]\n",
      " [0.9124602  0.08753978]\n",
      " ...\n",
      " [0.7993995  0.20060052]\n",
      " [0.90959847 0.09040154]\n",
      " [0.8127975  0.18720256]]\n",
      "Iteration:  15\n",
      "loss: 1.381135\n",
      "loss: 1.0826676\n",
      "Training Accuracy: 0.7508889\n",
      "Testing Accuracy: 0.742\n",
      "Tensor(\"Softmax_25:0\", shape=(?, 2), dtype=float32)\n",
      "[[0.9445065  0.05549347]\n",
      " [0.9068535  0.0931465 ]\n",
      " [0.9118438  0.08815628]\n",
      " ...\n",
      " [0.7994058  0.20059422]\n",
      " [0.9089918  0.09100816]\n",
      " [0.8127316  0.18726833]]\n",
      "Iteration:  16\n",
      "loss: 1.3835769\n",
      "loss: 1.0598465\n",
      "Training Accuracy: 0.895\n",
      "Testing Accuracy: 0.892\n",
      "Tensor(\"Softmax_26:0\", shape=(?, 2), dtype=float32)\n",
      "[[0.6222732  0.3777268 ]\n",
      " [0.6540538  0.3459462 ]\n",
      " [0.6497888  0.35021123]\n",
      " ...\n",
      " [0.50970805 0.49029195]\n",
      " [0.66025454 0.33974543]\n",
      " [0.5032661  0.4967339 ]]\n",
      "Iteration:  17\n",
      "loss: 1.3980529\n",
      "loss: 1.0825553\n",
      "Training Accuracy: 0.7508889\n",
      "Testing Accuracy: 0.742\n",
      "Tensor(\"Softmax_27:0\", shape=(?, 2), dtype=float32)\n",
      "[[0.94476736 0.05523272]\n",
      " [0.9071068  0.09289324]\n",
      " [0.9121028  0.08789713]\n",
      " ...\n",
      " [0.7993327  0.20066734]\n",
      " [0.9092395  0.09076051]\n",
      " [0.8127104  0.18728963]]\n",
      "Iteration:  18\n",
      "loss: 1.3968695\n",
      "loss: 1.0817732\n",
      "Training Accuracy: 0.7508889\n",
      "Testing Accuracy: 0.742\n",
      "Tensor(\"Softmax_28:0\", shape=(?, 2), dtype=float32)\n",
      "[[0.94522744 0.05477262]\n",
      " [0.90766066 0.09233935]\n",
      " [0.9126504  0.08734959]\n",
      " ...\n",
      " [0.79936206 0.2006379 ]\n",
      " [0.90978104 0.09021896]\n",
      " [0.8127932  0.18720673]]\n",
      "Iteration:  19\n",
      "loss: 1.3964013\n",
      "loss: 1.0587872\n",
      "Training Accuracy: 0.904\n",
      "Testing Accuracy: 0.9\n",
      "Tensor(\"Softmax_29:0\", shape=(?, 2), dtype=float32)\n",
      "[[0.62242043 0.3775796 ]\n",
      " [0.65390325 0.34609678]\n",
      " [0.64967084 0.35032916]\n",
      " ...\n",
      " [0.5078357  0.49216422]\n",
      " [0.6601043  0.3398957 ]\n",
      " [0.5014448  0.49855524]]\n"
     ]
    }
   ],
   "source": [
    "data_x, data_y, shape = extract_data('block_in_middle.txt', num_labels)\n",
    "print(shape)\n",
    "# Randomly take 1000 pixels to test on. The training set is only 9000\n",
    "train_x, train_y, test_x, test_y = create_training_and_testing_sets(data_x, data_y, shape, 1000 )\n",
    "draw_image(train_x)\n",
    "\n",
    "for i in range(20):\n",
    "    print(\"Iteration: \", i )\n",
    "    x, y, init, train_op, loss, accuracy, prediction = build_model()\n",
    "    run(x, y, init, train_op, loss, accuracy, train_x, train_y, test_x, test_y, prediction )"
   ]
  },
  {
   "cell_type": "code",
   "execution_count": 100,
   "metadata": {},
   "outputs": [
    {
     "name": "stdout",
     "output_type": "stream",
     "text": [
      "10000\n"
     ]
    },
    {
     "data": {
      "image/png": "[encoded data removed]",
      "text/plain": [
       "<Figure size 432x288 with 1 Axes>"
      ]
     },
     "metadata": {
      "needs_background": "light"
     },
     "output_type": "display_data"
    },
    {
     "name": "stdout",
     "output_type": "stream",
     "text": [
      "Iteration:  0\n",
      "loss: 1.3914146\n",
      "loss: 1.1246738\n",
      "Training Accuracy: 0.75\n",
      "Testing Accuracy: 0.75\n",
      "10000\n",
      "[[ 0  0 25 25  0]\n",
      " [ 0  0 25 26  0]\n",
      " [ 0  0 25 27  0]\n",
      " ...\n",
      " [ 0  0 99 97  0]\n",
      " [ 0  0 99 98  0]\n",
      " [ 0  0 99 99  0]]\n"
     ]
    },
    {
     "data": {
      "image/png": "[encoded data removed]",
      "text/plain": [
       "<Figure size 432x288 with 1 Axes>"
      ]
     },
     "metadata": {
      "needs_background": "light"
     },
     "output_type": "display_data"
    }
   ],
   "source": [
    "data_x, data_y, shape = extract_data('block_in_middle.txt', num_labels)\n",
    "print(shape)\n",
    "# whole image\n",
    "draw_image(data_x)\n",
    "\n",
    "for i in range(1):\n",
    "    print(\"Iteration: \", i )\n",
    "    x, y, init, train_op, loss, accuracy, prediction = build_model()\n",
    "    prediction = run(x, y, init, train_op, loss, accuracy, data_x, data_y, data_x, data_y, prediction )\n",
    "    #print(prediction)\n",
    "    #print(type(prediction))\n",
    "    draw_prediction(data_x, prediction)"
   ]
  },
  {
   "cell_type": "code",
   "execution_count": 72,
   "metadata": {},
   "outputs": [
    {
     "name": "stdout",
     "output_type": "stream",
     "text": [
      "10000\n"
     ]
    },
    {
     "data": {
      "image/png": "[encoded data removed]",
      "text/plain": [
       "<Figure size 432x288 with 1 Axes>"
      ]
     },
     "metadata": {
      "needs_background": "light"
     },
     "output_type": "display_data"
    },
    {
     "name": "stdout",
     "output_type": "stream",
     "text": [
      "Iteration:  0\n",
      "loss: 1.3893625\n",
      "loss: 1.124552\n",
      "Training Accuracy: 0.75\n",
      "Testing Accuracy: 0.75\n",
      "Tensor(\"Softmax_116:0\", shape=(?, 2), dtype=float32)\n",
      "[[0.6672949  0.33270505]\n",
      " [0.6672949  0.33270505]\n",
      " [0.6672949  0.33270505]\n",
      " ...\n",
      " [0.6672949  0.33270505]\n",
      " [0.6672949  0.33270505]\n",
      " [0.6672949  0.33270505]]\n",
      "10000\n",
      "[[ 0  0 25 25  0]\n",
      " [ 0  0 25 26  0]\n",
      " [ 0  0 25 27  0]\n",
      " ...\n",
      " [ 0  0 99 97  0]\n",
      " [ 0  0 99 98  0]\n",
      " [ 0  0 99 99  0]]\n"
     ]
    },
    {
     "data": {
      "image/png": "[encoded data removed]",
      "text/plain": [
       "<Figure size 432x288 with 1 Axes>"
      ]
     },
     "metadata": {
      "needs_background": "light"
     },
     "output_type": "display_data"
    }
   ],
   "source": [
    "data_x, data_y, shape = extract_data('block_in_middle_nocolor.txt', num_labels)\n",
    "print(shape)\n",
    "# Randomly take 1000 pixels to test on. The training set is only 9000\n",
    "train_x, train_y, test_x, test_y = create_training_and_testing_sets(data_x, data_y, shape, 1000 )\n",
    "draw_image(data_x)\n",
    "\n",
    "for i in range(1):\n",
    "    print(\"Iteration: \", i )\n",
    "    x, y, init, train_op, loss, accuracy, prediction = build_model()\n",
    "    prediction = run(x, y, init, train_op, loss, accuracy, data_x, data_y, data_x, data_y, prediction )\n",
    "    draw_prediction(data_x, prediction)"
   ]
  },
  {
   "cell_type": "code",
   "execution_count": 30,
   "metadata": {},
   "outputs": [
    {
     "name": "stdout",
     "output_type": "stream",
     "text": [
      "10000\n"
     ]
    },
    {
     "data": {
      "image/png": "[encoded data removed]",
      "text/plain": [
       "<Figure size 432x288 with 1 Axes>"
      ]
     },
     "metadata": {
      "needs_background": "light"
     },
     "output_type": "display_data"
    },
    {
     "name": "stdout",
     "output_type": "stream",
     "text": [
      "Iteration:  0\n",
      "loss: 1.368976\n",
      "loss: 1.1300067\n",
      "Training Accuracy: 0.74755555\n",
      "Testing Accuracy: 0.772\n",
      "Iteration:  1\n",
      "loss: 1.3755953\n",
      "loss: 1.1300036\n",
      "Training Accuracy: 0.74755555\n",
      "Testing Accuracy: 0.772\n",
      "Iteration:  2\n",
      "loss: 1.404613\n",
      "loss: 1.1299535\n",
      "Training Accuracy: 0.74755555\n",
      "Testing Accuracy: 0.772\n",
      "Iteration:  3\n",
      "loss: 1.3995199\n",
      "loss: 1.1300161\n",
      "Training Accuracy: 0.74755555\n",
      "Testing Accuracy: 0.772\n",
      "Iteration:  4\n",
      "loss: 1.3808221\n",
      "loss: 1.1300079\n",
      "Training Accuracy: 0.74755555\n",
      "Testing Accuracy: 0.772\n",
      "Iteration:  5\n",
      "loss: 1.3997048\n",
      "loss: 1.1300087\n",
      "Training Accuracy: 0.74755555\n",
      "Testing Accuracy: 0.772\n",
      "Iteration:  6\n",
      "loss: 1.3431556\n",
      "loss: 1.1296762\n",
      "Training Accuracy: 0.74755555\n",
      "Testing Accuracy: 0.772\n",
      "Iteration:  7\n",
      "loss: 1.3997207\n",
      "loss: 1.1278135\n",
      "Training Accuracy: 0.74755555\n",
      "Testing Accuracy: 0.772\n",
      "Iteration:  8\n",
      "loss: 1.324683\n",
      "loss: 1.1300031\n",
      "Training Accuracy: 0.74755555\n",
      "Testing Accuracy: 0.772\n",
      "Iteration:  9\n",
      "loss: 1.385318\n",
      "loss: 1.1252228\n",
      "Training Accuracy: 0.74755555\n",
      "Testing Accuracy: 0.772\n",
      "Iteration:  10\n",
      "loss: 1.4237669\n",
      "loss: 1.1300159\n",
      "Training Accuracy: 0.74755555\n",
      "Testing Accuracy: 0.772\n",
      "Iteration:  11\n",
      "loss: 1.3217465\n",
      "loss: 1.1300055\n",
      "Training Accuracy: 0.74755555\n",
      "Testing Accuracy: 0.772\n",
      "Iteration:  12\n",
      "loss: 1.3913879\n",
      "loss: 1.1300154\n",
      "Training Accuracy: 0.74755555\n",
      "Testing Accuracy: 0.772\n",
      "Iteration:  13\n",
      "loss: 1.3795341\n",
      "loss: 1.1293919\n",
      "Training Accuracy: 0.74755555\n",
      "Testing Accuracy: 0.772\n",
      "Iteration:  14\n",
      "loss: 1.3817791\n",
      "loss: 1.1299292\n",
      "Training Accuracy: 0.74755555\n",
      "Testing Accuracy: 0.772\n",
      "Iteration:  15\n",
      "loss: 1.4243717\n",
      "loss: 1.1300048\n",
      "Training Accuracy: 0.74755555\n",
      "Testing Accuracy: 0.772\n",
      "Iteration:  16\n",
      "loss: 1.4208096\n",
      "loss: 1.1296859\n",
      "Training Accuracy: 0.74755555\n",
      "Testing Accuracy: 0.772\n",
      "Iteration:  17\n",
      "loss: 1.399809\n",
      "loss: 1.1297712\n",
      "Training Accuracy: 0.74755555\n",
      "Testing Accuracy: 0.772\n",
      "Iteration:  18\n",
      "loss: 1.4183742\n",
      "loss: 1.1300159\n",
      "Training Accuracy: 0.74755555\n",
      "Testing Accuracy: 0.772\n",
      "Iteration:  19\n",
      "loss: 1.3439648\n",
      "loss: 1.12975\n",
      "Training Accuracy: 0.74755555\n",
      "Testing Accuracy: 0.772\n"
     ]
    }
   ],
   "source": [
    "data_x, data_y, shape = extract_data('block_in_middle_noxy.txt', num_labels)\n",
    "print(shape)\n",
    "# Randomly take 1000 pixels to test on. The training set is only 9000\n",
    "train_x, train_y, test_x, test_y = create_training_and_testing_sets(data_x, data_y, shape, 1000 )\n",
    "draw_image(train_x)\n",
    "\n",
    "for i in range(20):\n",
    "    print(\"Iteration: \", i )\n",
    "    x, y, init, train_op, loss, accuracy, prediction = build_model()\n",
    "    run(x, y, init, train_op, loss, accuracy, data_x, data_y, data_x, data_y, prediction )"
   ]
  },
  {
   "cell_type": "code",
   "execution_count": 85,
   "metadata": {},
   "outputs": [
    {
     "name": "stdout",
     "output_type": "stream",
     "text": [
      "10000\n"
     ]
    },
    {
     "data": {
      "image/png": "[encoded data removed]",
      "text/plain": [
       "<Figure size 432x288 with 1 Axes>"
      ]
     },
     "metadata": {
      "needs_background": "light"
     },
     "output_type": "display_data"
    },
    {
     "name": "stdout",
     "output_type": "stream",
     "text": [
      "Iteration:  0\n",
      "loss: 0.68665946\n",
      "loss: 0.37445372\n",
      "Training Accuracy: 0.8307\n",
      "Testing Accuracy: 0.8307\n",
      "10000\n",
      "[[ 0  0 33  0  0]\n",
      " [ 0  0 33  1  0]\n",
      " [ 0  0 33  2  0]\n",
      " ...\n",
      " [ 0  0 99 47  0]\n",
      " [ 0  0 99 48  0]\n",
      " [ 0  0 99 49  0]]\n"
     ]
    },
    {
     "data": {
      "image/png": "[encoded data removed]",
      "text/plain": [
       "<Figure size 432x288 with 1 Axes>"
      ]
     },
     "metadata": {
      "needs_background": "light"
     },
     "output_type": "display_data"
    }
   ],
   "source": [
    "data_x, data_y, shape = extract_data('block_in_middle_simple.txt', num_labels)\n",
    "print(shape)\n",
    "train_x, train_y, test_x, test_y = create_training_and_testing_sets(data_x, data_y, shape, 1000 )\n",
    "draw_image(data_x)\n",
    "\n",
    "for i in range(1):\n",
    "    print(\"Iteration: \", i )\n",
    "    x, y, init, train_op, loss, accuracy, prediction = build_model()\n",
    "    prediction = run(x, y, init, train_op, loss, accuracy, data_x, data_y, data_x, data_y, prediction )\n",
    "    draw_prediction(data_x, prediction)"
   ]
  },
  {
   "cell_type": "code",
   "execution_count": null,
   "metadata": {},
   "outputs": [],
   "source": []
  },
  {
   "cell_type": "code",
   "execution_count": null,
   "metadata": {},
   "outputs": [],
   "source": []
  },
  {
   "cell_type": "markdown",
   "metadata": {},
   "source": [
    "#TO DO#\n",
    "When doing the real data, user id is kinda useless. You want to have a vector instead that is the embedding of the user, such as interactions of the user and information about the user. Maybe the top projects they participated in or their relation to other users.\n",
    "TAke a small sample square of the data with a few pictures in it.\n",
    "Read the paper and make it better\n",
    "Clean and organize the notebook\n",
    "\n",
    "If i given all the updates, how do i cluster them so that they form the images\n",
    "EX: from 10000 updates, 100 images were built. Then i will train my model and be able to tell if it can perfectly find the images"
   ]
  },
  {
   "cell_type": "markdown",
   "metadata": {},
   "source": [
    "Try to print out the weights. Look at the berkeely example and the cmu video again."
   ]
  }
 ],
 "metadata": {
  "kernelspec": {
   "display_name": "Python 3",
   "language": "python",
   "name": "python3"
  },
  "language_info": {
   "codemirror_mode": {
    "name": "ipython",
    "version": 3
   },
   "file_extension": ".py",
   "mimetype": "text/x-python",
   "name": "python",
   "nbconvert_exporter": "python",
   "pygments_lexer": "ipython3",
   "version": "3.7.1"
  }
 },
 "nbformat": 4,
 "nbformat_minor": 2
}
