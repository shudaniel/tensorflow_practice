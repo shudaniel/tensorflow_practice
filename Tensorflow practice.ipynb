{
 "cells": [
  {
   "cell_type": "code",
   "execution_count": 1,
   "metadata": {},
   "outputs": [],
   "source": [
    "import tensorflow as tf\n",
    "import matplotlib.pyplot as plt\n",
    "import os\n",
    "import numpy as np\n",
    "import random\n",
    "import pandas\n",
    "from sklearn.metrics.pairwise import pairwise_distances"
   ]
  },
  {
   "cell_type": "code",
   "execution_count": 2,
   "metadata": {},
   "outputs": [],
   "source": [
    "def generate_dataset(filename):\n",
    "    col_names = ['ts','user','x_coordinate','y_coordinate','color', 'label']\n",
    "    data = pandas.read_csv(filename, names = col_names, header=None, skiprows=1)\n",
    "#     print(type(data))\n",
    "    \n",
    "#     ts = data.ts.values\n",
    "    \n",
    "#     print(type(ts))\n",
    "    return data"
   ]
  },
  {
   "cell_type": "code",
   "execution_count": 110,
   "metadata": {},
   "outputs": [],
   "source": [
    "num_labels = 2\n",
    "def extract_data(filename, num_labels):\n",
    "    data = generate_dataset(filename)\n",
    "    dim = data.ts.values.shape[0]\n",
    "    print(dim)\n",
    "    #type(data.x_coordinate.values[1])\n",
    "    dataset_x = np.concatenate((data.ts.values.reshape(dim,1),\n",
    "                              data.user.values.reshape(dim,1),\n",
    "                              data.x_coordinate.values.reshape(dim,1),\n",
    "                              data.y_coordinate.values.reshape(dim,1),\n",
    "                              data.color.values.reshape(dim,1)), axis=1)\n",
    "    print(dataset_x.shape)\n",
    "    dataset_y = np.zeros((dim,num_labels))\n",
    "    for i in range(dim):\n",
    "        dataset_y[i][data.label.values[i]] = 1\n",
    "    print(dataset_y.shape)\n",
    "    return dataset_x, dataset_y"
   ]
  },
  {
   "cell_type": "code",
   "execution_count": 153,
   "metadata": {},
   "outputs": [
    {
     "name": "stdout",
     "output_type": "stream",
     "text": [
      "1600\n",
      "(1600, 5)\n",
      "(1600, 2)\n",
      "[[ 0  0  0  0  0]\n",
      " [ 0  0  0  1  0]\n",
      " [ 0  0  0  2  0]\n",
      " ...\n",
      " [ 0  0 39 37  0]\n",
      " [ 0  0 39 38  0]\n",
      " [ 0  0 39 39  0]]\n"
     ]
    }
   ],
   "source": [
    "train_x, train_y = extract_data('checkerboard_big.txt', num_labels)\n",
    "# valid_x, valid_y = extract_data('validation.txt', num_labels)\n",
    "# test_x, test_y = extract_data('test_blocks.txt', num_labels)\n",
    "print(train_x)"
   ]
  },
  {
   "cell_type": "code",
   "execution_count": 140,
   "metadata": {},
   "outputs": [],
   "source": [
    "def build_model():\n",
    "    x = tf.placeholder(tf.float32, shape=(None, 5), name='x')    \n",
    "    y = tf.placeholder(tf.float32, shape=(None, num_labels), name='y') \n",
    "    \n",
    "    W1 = tf.Variable(tf.random_normal([5, 128], stddev = 0.01), name='W1')\n",
    "#     W1 = tf.Variable(np.zeros((5,128),dtype=np.float32), name='W1')\n",
    "    b1 = tf.Variable(tf.random_normal([128], stddev = 0.01), name='b1')\n",
    "    \n",
    "#     W2 = tf.Variable(tf.random_normal([128, 128], stddev = 0.5), name='W2')\n",
    "#     b2 = tf.Variable(tf.random_normal([128]), name='b2')\n",
    "    \n",
    "    W3 = tf.Variable(tf.random_normal([128, num_labels], stddev=0.01), name='W3')\n",
    "#     W3 = tf.Variable(np.zeros((128,num_labels),dtype=np.float32), name='W3')\n",
    "    b3 = tf.Variable(tf.random_normal([num_labels], stddev = 0.01), name='b3')\n",
    "\n",
    "    \n",
    "    hidden_out = tf.add(tf.matmul(x, W1), b1)\n",
    "    hidden_out = tf.nn.relu(hidden_out)\n",
    "    \n",
    "#     hidden_out2 = tf.add( tf.matmul(hidden_out, W2), b2 )\n",
    "#     hidden_out2 = tf.nn.relu(hidden_out2)\n",
    "    \n",
    "    logits = tf.add(tf.matmul(hidden_out, W3), b3)\n",
    "    prediction = tf.nn.softmax(logits)\n",
    "    y_clipped = tf.clip_by_value(prediction, 1e-10, 0.9999999)\n",
    "    \n",
    "    loss = -tf.reduce_mean(tf.reduce_sum(y * tf.log(y_clipped) + (1 - y) * tf.log(1 - y_clipped), axis=1))\n",
    "#     loss = tf.losses.cosine_distance(y, prediction, axis = 1)\n",
    "    \n",
    "    train_op = tf.train.GradientDescentOptimizer(learning_rate = 0.01).minimize(loss)\n",
    "    init = tf.global_variables_initializer()\n",
    "\n",
    "    correct_prediction = tf.equal(tf.argmax(prediction, 1, name=\"Argmax_Pred\"), tf.argmax(y, 1, name=\"Y_Pred\"), name=\"Correct_Pred\")\n",
    "    accuracy = tf.reduce_mean(tf.cast(correct_prediction, tf.float32, name=\"Cast_Corr_Pred\"), name=\"Accuracy\")\n",
    "    \n",
    "    return x, y, init, train_op, loss, accuracy"
   ]
  },
  {
   "cell_type": "code",
   "execution_count": 144,
   "metadata": {},
   "outputs": [],
   "source": [
    "def run(x, y, init, train_op, loss, accuracy):\n",
    "    #define session\n",
    "#     train_distances = pairwise_distances(train_x, metric = 'cosine')\n",
    "#     test_distances = pairwise_distances(train_x, metric = 'cosine')\n",
    "    MAX_THRESH = 10\n",
    "    with tf.Session() as sess:\n",
    "        sess.run(init)\n",
    "        feed_dict = {x: train_x, y: train_y}\n",
    "#         valid_dict = {x: valid_x, y: valid_y}\n",
    "#         test_dict = {x: test_x, y: test_y}\n",
    "        \n",
    "        error_increases = 0\n",
    "        old_valid_accuracy = 0\n",
    "        for i in range(2000):\n",
    "            #print('EPOCH', i)\n",
    "            _, loss_val = sess.run([train_op, loss], feed_dict)\n",
    "#             valid_accuracy = sess.run(accuracy, valid_dict)\n",
    "# #             print(\"VALID ACC: \", valid_accuracy)\n",
    "#             if (valid_accuracy < old_valid_accuracy):\n",
    "#                 error_increases += 1\n",
    "#                 if error_increases > MAX_THRESH:\n",
    "#                     break\n",
    "#             else:\n",
    "#                 error_increases = 0\n",
    "            \n",
    "#             old_valid_accuracy = valid_accuracy\n",
    "            \n",
    "            #print('DONE WITH EPOCH')\n",
    "            if i % 200 == 0:\n",
    "                print(\"loss:\", loss_val)\n",
    "\n",
    "        print(\"Training Accuracy:\", sess.run( accuracy, feed_dict))\n",
    "#         print(\"Testing Accuracy:\", sess.run( accuracy, test_dict))"
   ]
  },
  {
   "cell_type": "code",
   "execution_count": null,
   "metadata": {},
   "outputs": [
    {
     "name": "stdout",
     "output_type": "stream",
     "text": [
      "loss: 1.3861119\n",
      "loss: 1.324079\n",
      "loss: 1.2479763\n",
      "loss: 1.171129\n",
      "loss: 1.0979607\n",
      "loss: 1.0294353\n",
      "loss: 0.9847525\n",
      "loss: 0.908763\n",
      "loss: 0.81951934\n",
      "loss: 0.6478244\n",
      "Training Accuracy: 1.0\n",
      "loss: 1.3867273\n",
      "loss: 1.3339245\n",
      "loss: 1.2473906\n",
      "loss: 1.1543354\n",
      "loss: 1.072771\n",
      "loss: 0.9927753\n",
      "loss: 0.8946285\n",
      "loss: 0.8491107\n",
      "loss: 0.7965466\n",
      "loss: 0.691972\n",
      "Training Accuracy: 1.0\n",
      "loss: 1.3875062\n",
      "loss: 1.3419212\n",
      "loss: 1.2632074\n",
      "loss: 1.1856674\n",
      "loss: 1.1120375\n",
      "loss: 1.046017\n",
      "loss: 0.9852036\n",
      "loss: 0.9250026\n",
      "loss: 0.8657967\n",
      "loss: 0.80274904\n",
      "Training Accuracy: 1.0\n",
      "loss: 1.386553\n",
      "loss: 1.3213671\n",
      "loss: 1.2466441\n",
      "loss: 1.1679577\n",
      "loss: 1.095404\n",
      "loss: 1.0266043\n",
      "loss: 0.9730616\n",
      "loss: 0.88946855\n",
      "loss: 0.94788\n",
      "loss: 0.5794091\n",
      "Training Accuracy: 1.0\n",
      "loss: 1.3867801\n",
      "loss: 1.3305728\n",
      "loss: 1.2160949\n",
      "loss: 1.1568743\n",
      "loss: 1.0514444\n",
      "loss: 1.0108807\n",
      "loss: 0.91387016\n",
      "loss: 0.8050853\n",
      "loss: 0.7047539\n",
      "loss: 0.7076423\n",
      "Training Accuracy: 1.0\n",
      "loss: 1.3865726\n",
      "loss: 1.3464535\n",
      "loss: 1.2643918\n",
      "loss: 1.1851312\n",
      "loss: 1.1101515\n",
      "loss: 1.039753\n",
      "loss: 0.9770378\n",
      "loss: 0.909966\n",
      "loss: 0.9333504\n",
      "loss: 0.90125734\n",
      "Training Accuracy: 1.0\n",
      "loss: 1.3872913\n",
      "loss: 1.3152126\n",
      "loss: 1.2313666\n",
      "loss: 1.1434555\n",
      "loss: 1.0637492\n",
      "loss: 0.9886197\n",
      "loss: 0.9164952\n",
      "loss: 0.8480666\n",
      "loss: 0.7962895\n",
      "loss: 0.97431505\n",
      "Training Accuracy: 1.0\n"
     ]
    }
   ],
   "source": [
    "for i in range(20):\n",
    "    x, y, init, train_op, loss, accuracy = build_model()\n",
    "    run(x, y, init, train_op, loss, accuracy)"
   ]
  },
  {
   "cell_type": "code",
   "execution_count": null,
   "metadata": {},
   "outputs": [],
   "source": []
  },
  {
   "cell_type": "code",
   "execution_count": null,
   "metadata": {},
   "outputs": [],
   "source": []
  },
  {
   "cell_type": "code",
   "execution_count": null,
   "metadata": {},
   "outputs": [],
   "source": []
  },
  {
   "cell_type": "code",
   "execution_count": null,
   "metadata": {},
   "outputs": [],
   "source": []
  },
  {
   "cell_type": "code",
   "execution_count": null,
   "metadata": {},
   "outputs": [],
   "source": []
  },
  {
   "cell_type": "code",
   "execution_count": 154,
   "metadata": {},
   "outputs": [
    {
     "data": {
      "image/png": "[encoded data removed]",
      "text/plain": [
       "<Figure size 432x288 with 1 Axes>"
      ]
     },
     "metadata": {
      "needs_background": "light"
     },
     "output_type": "display_data"
    }
   ],
   "source": [
    "import numpy as np\n",
    "import matplotlib.pyplot as plt\n",
    "\n",
    "x_0 = []\n",
    "x_1 = []\n",
    "y_0 = []\n",
    "y_1 = []\n",
    "\n",
    "for row in train_x:\n",
    "    x = row[2]\n",
    "    y = row[3]\n",
    "    color = row[4]\n",
    "    if color == 0:\n",
    "        x_0.append(x)\n",
    "        y_0.append(y)\n",
    "    else:\n",
    "        x_1.append(x)\n",
    "        y_1.append(y)\n",
    "\n",
    "plt.scatter(x_0, y_0, c = \"red\")\n",
    "plt.scatter(x_1, y_1, c = \"blue\")\n",
    "plt.axis('equal')\n",
    "plt.show()"
   ]
  },
  {
   "cell_type": "code",
   "execution_count": null,
   "metadata": {},
   "outputs": [],
   "source": []
  },
  {
   "cell_type": "code",
   "execution_count": null,
   "metadata": {},
   "outputs": [],
   "source": []
  }
 ],
 "metadata": {
  "kernelspec": {
   "display_name": "Python 3",
   "language": "python",
   "name": "python3"
  },
  "language_info": {
   "codemirror_mode": {
    "name": "ipython",
    "version": 3
   },
   "file_extension": ".py",
   "mimetype": "text/x-python",
   "name": "python",
   "nbconvert_exporter": "python",
   "pygments_lexer": "ipython3",
   "version": "3.6.3"
  }
 },
 "nbformat": 4,
 "nbformat_minor": 2
}
